{
 "cells": [
  {
   "cell_type": "markdown",
   "id": "38f558eb",
   "metadata": {},
   "source": [
    "### Ni ska bygga ett quizprogram som ställer frågor till användaren och räknar ut poängen.\n",
    "\n",
    "1. Frågor och svar:\n",
    "    - Skappa en lista med frågor\n",
    "    - skappa en lista med de rätta svaren.(här får ni välja om ni vill ha flersvarfrågor eller om användaren ska skriva ett text svar)\n",
    "    \n",
    "2. Loopa över frågorna:\n",
    "    - Använd en loop för att ställa varje fråga till användaren\n",
    "    - Låt användaren skriva in sitt svar med input()\n",
    "\n",
    "3. Kontrollera svaren:\n",
    "    - Jämför användarens svar med det rätta svaret\n",
    "    - Om det är rätt, öka poängen med 1.\n",
    "\n",
    "4. Visa resultat:\n",
    "    - När quizet är klart, skriv ut hur många poäng användaren fick.\n",
    "    - Lägg till en kommentar som är olika beroende på poäng, t.ex:\n",
    "        - 'Bra jobbat!'\n",
    "        - 'Försök igen!'\n",
    "\n",
    "\n",
    "Programmet ska ställa minst 5 frågor till användaren.\n",
    "Frågorna får ni komma på själva men det viktiga här är inte frågorna i sig.\n",
    "Exampel på frågor skulle kunna vara:\n",
    "    - Vilket år är det?\n",
    "    - Vad heter Sveriges huvudstad?\n",
    "    - Vad är  5 * 2?\n",
    "\n",
    "Den häruppgiften går lika bra att köra i en notebook som i en vanlig .py file, det väljer ni i gruppen.\n",
    "\n"
   ]
  },
  {
   "cell_type": "code",
   "execution_count": null,
   "id": "4ffbc69c",
   "metadata": {},
   "outputs": [],
   "source": []
  },
  {
   "cell_type": "code",
   "execution_count": null,
   "id": "d580be1c",
   "metadata": {},
   "outputs": [],
   "source": []
  },
  {
   "cell_type": "code",
   "execution_count": null,
   "id": "b52244cf",
   "metadata": {},
   "outputs": [],
   "source": []
  },
  {
   "cell_type": "code",
   "execution_count": null,
   "id": "1c717395",
   "metadata": {},
   "outputs": [],
   "source": []
  },
  {
   "cell_type": "code",
   "execution_count": null,
   "id": "aedcff9e",
   "metadata": {},
   "outputs": [],
   "source": []
  },
  {
   "cell_type": "code",
   "execution_count": null,
   "id": "5bd119d6",
   "metadata": {},
   "outputs": [],
   "source": []
  },
  {
   "cell_type": "code",
   "execution_count": null,
   "id": "45f8108b",
   "metadata": {},
   "outputs": [],
   "source": []
  },
  {
   "cell_type": "code",
   "execution_count": null,
   "id": "39bc3b47",
   "metadata": {},
   "outputs": [],
   "source": []
  }
 ],
 "metadata": {
  "language_info": {
   "name": "python"
  }
 },
 "nbformat": 4,
 "nbformat_minor": 5
}
