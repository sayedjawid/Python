{
 "cells": [
  {
   "cell_type": "markdown",
   "id": "4a6a240b",
   "metadata": {},
   "source": [
    "### STRINGS"
   ]
  },
  {
   "cell_type": "markdown",
   "id": "dc1f36a1",
   "metadata": {},
   "source": [
    "<!-- STRINGS -->"
   ]
  },
  {
   "cell_type": "code",
   "execution_count": 11,
   "id": "a8e535b5",
   "metadata": {},
   "outputs": [
    {
     "name": "stdout",
     "output_type": "stream",
     "text": [
      "Hej, jag heter Sayed Jawid Mortazawi, and I am 29 years old.\n",
      "<class 'int'>\n",
      "58\n"
     ]
    }
   ],
   "source": [
    "first_name = 'Sayed Jawid'\n",
    "last_name = 'Mortazawi'\n",
    "age = 29\n",
    "\n",
    "full_name = f'Hej, jag heter {first_name.title()} {last_name.title()}, and I am {str(age)} years old.'\n",
    "print(full_name)\n",
    "print(type(age))\n",
    "print(age * 2)"
   ]
  },
  {
   "cell_type": "code",
   "execution_count": 22,
   "id": "26f2b88e",
   "metadata": {},
   "outputs": [
    {
     "name": "stdout",
     "output_type": "stream",
     "text": [
      "li Mortazaw\n"
     ]
    }
   ],
   "source": [
    "name = 'Ali Mortazawi'\n",
    "print(name[1:-1])"
   ]
  },
  {
   "cell_type": "code",
   "execution_count": 34,
   "id": "7c72f2db",
   "metadata": {},
   "outputs": [
    {
     "name": "stdout",
     "output_type": "stream",
     "text": [
      "                HELLO     WORLD         \n",
      "                Hello     World         \n",
      "                hello     world         \n",
      "result: Hello World\n"
     ]
    }
   ],
   "source": [
    "text = '                hello     world         '\n",
    "print(text.upper())\n",
    "print(text.title())\n",
    "print(text.lower())\n",
    "# print(text.strip())\n",
    "\n",
    "result = ' '.join(text.split())\n",
    "print(f'result: {result.title()}') "
   ]
  },
  {
   "cell_type": "code",
   "execution_count": 49,
   "id": "4245e980",
   "metadata": {},
   "outputs": [
    {
     "name": "stdout",
     "output_type": "stream",
     "text": [
      "['cheddar', ' hushåll', ' port salut', ' präst']\n"
     ]
    }
   ],
   "source": [
    "ost = 'cheddar, hushåll, port salut, präst'\n",
    "ost.title()\n",
    "\n",
    "oster = ost.split(',')\n",
    "print(oster)"
   ]
  },
  {
   "cell_type": "markdown",
   "id": "1415f5da",
   "metadata": {},
   "source": [
    "## IF SATSER\n"
   ]
  },
  {
   "cell_type": "markdown",
   "id": "c8d6d7c1",
   "metadata": {},
   "source": [
    "#### Jämförelseoprationer\n",
    "- == Lika med\n",
    "- != Inte Lika med\n",
    "- \">\" Större än \n",
    "- \"<\" Mindre än \n",
    "- \">=\" Större eller Lika\n",
    "- \"<=\" Mindre eller Lika"
   ]
  },
  {
   "cell_type": "code",
   "execution_count": 52,
   "id": "b8f28a64",
   "metadata": {},
   "outputs": [
    {
     "name": "stdout",
     "output_type": "stream",
     "text": [
      "Du är tonåriing!\n"
     ]
    }
   ],
   "source": [
    "age = int(input('Hej och välkomen till mitt program. '\n",
    "'Var snäll och skriv din ålder: \\t'))\n",
    "\n",
    "if age < 13:\n",
    "    print('Du är ugn')\n",
    "elif age < 18:\n",
    "    print('Du är tonåriing!')\n",
    "elif age >= 18:\n",
    "    print('Du är vuxen!')"
   ]
  },
  {
   "cell_type": "code",
   "execution_count": 62,
   "id": "c6f1dc26",
   "metadata": {},
   "outputs": [
    {
     "name": "stdout",
     "output_type": "stream",
     "text": [
      "Du är pansionär!\n"
     ]
    }
   ],
   "source": [
    "\n",
    "age = int(input('Hej och välkomen till mitt program. '\n",
    "'Var snäll och skriv din ålder:\\n'))\n",
    "\n",
    "\n",
    "if age <= 0:\n",
    "    print('Var snäll och skriv i rätt format!')\n",
    "    \n",
    "elif age < 13:\n",
    "    print('Du är ugn')\n",
    "elif age < 18:\n",
    "    print('Du är tonåriing!')\n",
    "elif 18 <= age <= 66:\n",
    "    print('Du är vuxen!')\n",
    "else:\n",
    "    print('Du är pansionär!')\n",
    "\n"
   ]
  },
  {
   "cell_type": "code",
   "execution_count": 77,
   "id": "5faf522d",
   "metadata": {},
   "outputs": [
    {
     "name": "stdout",
     "output_type": "stream",
     "text": [
      "Start...\n",
      "Timer stopped at 9 seconds!\n"
     ]
    }
   ],
   "source": [
    "import time\n",
    "\n",
    "seconds = 0\n",
    "\n",
    "while True:\n",
    "    redo = input('Are you ready? (y/n) ')\n",
    "    if redo.lower() == 'y':\n",
    "        print('Start...')\n",
    "        while True:\n",
    "            print(f'Time: {seconds} seconds', end='\\r')  # \\r skriver över samma rad\n",
    "            # time.sleep(1)\n",
    "            seconds += 1\n",
    "            # Fråga användaren om hen vill gå in i break mode\n",
    "            if input(\"\\nType 'break' to stop timer: \").lower() == 'break':\n",
    "                print(f\"Timer stopped at {seconds} seconds!\")\n",
    "                break\n",
    "        break  # avsluta y-loopen efter break\n",
    "    elif redo.lower() == 'n':\n",
    "        print(\"Exiting program.\")\n",
    "        break\n"
   ]
  },
  {
   "cell_type": "code",
   "execution_count": 14,
   "id": "be2e982e",
   "metadata": {},
   "outputs": [
    {
     "name": "stdout",
     "output_type": "stream",
     "text": [
      "30.5\n",
      "30.0\n",
      "==================\n",
      "30.5\n",
      "30.0\n"
     ]
    }
   ],
   "source": [
    "import statistics as st\n",
    "import numpy as np\n",
    "# import pandas as pd\n",
    "\n",
    "numbers = [10, 20, 3, 40, 50, 60]\n",
    "print(st.mean(numbers))\n",
    "print(st.median(numbers))\n",
    "print('==================')\n",
    "print(np.mean(numbers))\n",
    "print(np.median(numbers))\n"
   ]
  },
  {
   "cell_type": "code",
   "execution_count": 17,
   "id": "a32b1aca",
   "metadata": {},
   "outputs": [
    {
     "name": "stdout",
     "output_type": "stream",
     "text": [
      "[['Joakim', 'Hans', 'Jeanette', 'Emil'], [38, 40, 37, 35]]\n"
     ]
    }
   ],
   "source": [
    "extra_numbers = [ 70, 80, 100]\n",
    "all_numbers = numbers + extra_numbers\n",
    "# print(all_numbers)\n",
    "\n",
    "names = ['Joakim', 'Hans', 'Jeanette', 'Emil']\n",
    "ages = [38, 40, 37, 35]\n",
    "\n",
    "matrix = [names, ages]\n",
    "print(matrix)"
   ]
  },
  {
   "cell_type": "code",
   "execution_count": 26,
   "id": "8078e362",
   "metadata": {},
   "outputs": [
    {
     "name": "stdout",
     "output_type": "stream",
     "text": [
      "Jeanette with age: 37\n",
      "37\n"
     ]
    }
   ],
   "source": [
    "print(matrix[0][2], 'with age:', matrix[1][2])\n",
    "print(matrix[1][2])\n"
   ]
  },
  {
   "cell_type": "markdown",
   "id": "2f5bf9ff",
   "metadata": {},
   "source": [
    "### for_loops"
   ]
  },
  {
   "cell_type": "code",
   "execution_count": 7,
   "id": "e113b711",
   "metadata": {},
   "outputs": [
    {
     "name": "stdout",
     "output_type": "stream",
     "text": [
      "0 Spider-Man\n",
      "1 Wonder Woman\n",
      "2 Batman\n",
      "3 Iron Man\n",
      "4 Captain America\n",
      "5 Black Panther\n",
      "6 Hulk\n",
      "7 Thor\n",
      "8 Flash\n",
      "9 Superman\n"
     ]
    }
   ],
   "source": [
    "superheroes = [\n",
    "    \"Spider-Man\",\n",
    "    \"Wonder Woman\",\n",
    "    \"Batman\",\n",
    "    \"Iron Man\",\n",
    "    \"Captain America\",\n",
    "    \"Black Panther\",\n",
    "    \"Hulk\",\n",
    "    \"Thor\",\n",
    "    \"Flash\",\n",
    "    \"Superman\"\n",
    "]\n",
    "\n",
    "powers = [\n",
    "    \"Super strength, agility, spider-sense\",\n",
    "    \"Super strength, flight, combat skills\",\n",
    "    \"Genius intellect, martial arts, gadgets\",\n",
    "    \"Genius intellect, powered armor suit\",\n",
    "    \"Enhanced strength, agility, shield mastery\",\n",
    "    \"Enhanced strength, agility, advanced technology\",\n",
    "    \"Super strength, invulnerability, regeneration\",\n",
    "    \"Godly strength, lightning manipulation, flight\",\n",
    "    \"Super speed, time manipulation\",\n",
    "    \"Super strength, flight, heat vision, invulnerability\"\n",
    "]\n",
    "\n",
    "for powers in range(len(superheroes)):\n",
    "    print(powers, superheroes[powers])"
   ]
  },
  {
   "cell_type": "code",
   "execution_count": null,
   "id": "3292f48d",
   "metadata": {},
   "outputs": [],
   "source": []
  },
  {
   "cell_type": "code",
   "execution_count": null,
   "id": "2a4476e1",
   "metadata": {},
   "outputs": [],
   "source": []
  },
  {
   "cell_type": "code",
   "execution_count": null,
   "id": "560aece9",
   "metadata": {},
   "outputs": [],
   "source": []
  }
 ],
 "metadata": {
  "kernelspec": {
   "display_name": ".venv",
   "language": "python",
   "name": "python3"
  },
  "language_info": {
   "codemirror_mode": {
    "name": "ipython",
    "version": 3
   },
   "file_extension": ".py",
   "mimetype": "text/x-python",
   "name": "python",
   "nbconvert_exporter": "python",
   "pygments_lexer": "ipython3",
   "version": "3.13.7"
  }
 },
 "nbformat": 4,
 "nbformat_minor": 5
}
