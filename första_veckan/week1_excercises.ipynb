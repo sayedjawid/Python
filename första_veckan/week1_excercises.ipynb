{
 "cells": [
  {
   "cell_type": "markdown",
   "id": "27017f5a",
   "metadata": {},
   "source": [
    "# Självstudieövningar - Vecka 1\n",
    "\n",
    "De här övningarna är till för att du ska repetera och befästa det vi har gått igenom under veckan samt introducera några nya begrepp på ett tryggt sätt.\n",
    "\n",
    "Det innebär att vissa av uppgifterna kan du behöva söka efter information själv hur du löser. Här kan du använda Google eller AI om du vill men Python-dokumentationen är din bästa vän när du lär dig.\n",
    "\n",
    "Länk: https://docs.python.org/3.13/\n",
    "\n",
    "Läs först igenom vad som ska göras i respektive uppgift och fyll sedan i kodblocket nedanför.\n",
    "**Detta lämnas inte in för rättning.** Arbeta i din egen takt, testa dig fram, använd dokumentationen när du kör fast och ta med eventuella frågor till nästa lektionstillfälle."
   ]
  },
  {
   "cell_type": "markdown",
   "id": "5e6cf10b",
   "metadata": {},
   "source": [
    "### 1. Variabler och beräkningar\n",
    "skriv kod som:\n",
    "1. Skapar `a = 15` och `b = 4`  \n",
    "Skriv ut:\n",
    "    * **summa**\n",
    "    * **differens**\n",
    "    * **produkt** \n",
    "    * **kvot** (med `/`)\n",
    "    * **heltalskvot** (med `//`)\n",
    "    * **rest** (med `%`)  \n",
    "gärna med tydliga etiketter i utskriften.\n",
    "2. Räkna ut **omkrets** och **area** av en rektangel med `bredd = 7` och `höjd = 3`. Skriv ut resultatet.\n",
    "3. Omvandla `25°C` till Fahrenheit med formeln `F = C * 9/5 + 32` och skriv ut.\n",
    "4. Skriv ett kort program som **läser in två tal** från användaren och skriver ut deras **medelvärde** avrundat till **2 decimaler** (`round`).\n",
    "\n",
    "Tips: kom ihåg att omvandla `input` till `int` eller `float` innan beräkningar."
   ]
  },
  {
   "cell_type": "code",
   "execution_count": 7,
   "id": "a3342ff7",
   "metadata": {},
   "outputs": [
    {
     "name": "stdout",
     "output_type": "stream",
     "text": [
      "19\n",
      "11\n",
      "3.75\n",
      "3\n",
      "3\n",
      "Nice\n"
     ]
    }
   ],
   "source": [
    "# Din kod här\n",
    "a = 15\n",
    "b = 4\n",
    "sum = a + b \n",
    "difrence = a - b\n",
    "kvot = a / b\n",
    "helhetskvot = a // b\n",
    "rest = a % b\n",
    "print(sum)\n",
    "print(difrence)\n",
    "print(kvot)\n",
    "print(helhetskvot)\n",
    "print(rest)\n",
    "print('Nice')"
   ]
  },
  {
   "cell_type": "code",
   "execution_count": 10,
   "id": "2b87c8c8",
   "metadata": {},
   "outputs": [
    {
     "name": "stdout",
     "output_type": "stream",
     "text": [
      "Omkretesen på denna rektangeln är: 20\n",
      "Arean på denna rektangeln är: 21 \n"
     ]
    }
   ],
   "source": [
    "# 2. Räkna ut **omkrets** och **area** av en rektangel med `bredd = 7` och `höjd = 3`. Skriv ut resultatet.\n",
    "l = 3\n",
    "b = 7\n",
    "o = 2*(l+b) \n",
    "print(f'Omkretesen på denna rektangeln är: {o}')\n",
    "\n",
    "a = l*b\n",
    "print(f'Arean på denna rektangeln är: {a} ')"
   ]
  },
  {
   "cell_type": "code",
   "execution_count": 15,
   "id": "405a7f6f",
   "metadata": {},
   "outputs": [
    {
     "name": "stdout",
     "output_type": "stream",
     "text": [
      "This temperature in Fahrenheit: 77.0\n"
     ]
    }
   ],
   "source": [
    "# Omvandla `25°C` till Fahrenheit med formeln `F = C * 9/5 + 32` och skriv ut.\n",
    "c = 25 \n",
    "Fahrenheit = c* 9/5 + 32\n",
    "print(f'This temperature in Fahrenheit: {Fahrenheit:.1f}')\n",
    "\n",
    "\n"
   ]
  },
  {
   "cell_type": "code",
   "execution_count": null,
   "id": "b2cc2180",
   "metadata": {},
   "outputs": [],
   "source": [
    "# # Skriv ett kort program som **läser in två tal** från användaren och skriver ut deras **medelvärde** avrundat till **2 decimaler** (`round`).\n",
    "\n",
    "# # Tips: kom ihåg att omvandla `input` till `int` eller `float` innan beräkningar.\n",
    "\n",
    "\n",
    "# Läs in två tal från användaren\n",
    "tal1 = float(input(\"Ange det första talet: \"))\n",
    "tal2 = float(input(\"Ange det andra talet: \"))\n",
    "\n",
    "# Beräkna medelvärdet\n",
    "medelvärde = (tal1 + tal2) / 2\n",
    "\n",
    "# Skriv ut medelvärdet avrundat till 2 decimaler\n",
    "print(f\"Medelvärdet är: {round(medelvärde, 2)}\")\n"
   ]
  },
  {
   "cell_type": "markdown",
   "id": "b5791cd7",
   "metadata": {},
   "source": [
    "### 2. Operatorer, prioritet & formatering\n",
    "\n",
    "1. Beräkna och skriv ut resultatet av `7 + 3 * 2` samt `(7 + 3) * 2`. varför de blir olika?\n",
    "2. Låt användaren skriva in **tre decimaltal**. Beräkna **medelvärdet** och skriv ut avrundat till **2** decimaler (`round`).\n",
    "3. Skriv ut multiplikationen `3 × 7 = 21` i **en enda** `print`-sats, där talen kommer från variablerna `x` och `y`.\n",
    "\n",
    "Tips: f-strings gör det lättare att blanda text och beräknade värden."
   ]
  },
  {
   "cell_type": "code",
   "execution_count": null,
   "id": "ffbc0c0b",
   "metadata": {},
   "outputs": [],
   "source": [
    "# Din kod här"
   ]
  },
  {
   "cell_type": "markdown",
   "id": "bdc9c6f0",
   "metadata": {},
   "source": [
    "### 3. Felsökning 🐞\n",
    "Koden nedan ska skriva ut ett heltalssvar, men kraschar / ger fel. **Rätta till** så att den fungerar."
   ]
  },
  {
   "cell_type": "code",
   "execution_count": null,
   "id": "0c5b68d3",
   "metadata": {},
   "outputs": [],
   "source": [
    "a = \"10\"\n",
    "b = 3\n",
    "resultat = a // b\n",
    "print(f\"Kvoten är: {resultat}\")"
   ]
  },
  {
   "cell_type": "markdown",
   "id": "2702e853",
   "metadata": {},
   "source": [
    "### 4. Strängar – indexering, slicing, sammanslagning\n",
    "Utgå från `name = \"Ada Lovelace\"`.\n",
    "1. Skriv ut antalet tecken, de tre första tecknen och de två sista tecknen i strängen.\n",
    "2. Plocka ut förnamnet och efternamnet (hint: `split`).\n",
    "3. Skriv `Hej, <förnamn>!` med f-string.\n",
    "4. Skapa en ny sträng där mellanslag ersätts med `_`.\n",
    "5. Skriv ut strängen baklänges med slicing."
   ]
  },
  {
   "cell_type": "code",
   "execution_count": null,
   "id": "d8fdb0c8",
   "metadata": {},
   "outputs": [],
   "source": [
    "# Din kod här"
   ]
  },
  {
   "cell_type": "markdown",
   "id": "f8639a52",
   "metadata": {},
   "source": [
    "### 5. Strängar – hitta och ersätta\n",
    "1.Låt användaren skriva en **mening**. Skriv ut **antal tecken** i meningen.\n",
    "2. Skriv ut meningen där alla **mellanslag ersatts med `-`**.\n",
    "3. Kontrollera om ordet `python` förekommer (versaler/gemener ska räknas som samma)."
   ]
  },
  {
   "cell_type": "code",
   "execution_count": null,
   "id": "7c0f094e",
   "metadata": {},
   "outputs": [],
   "source": [
    "# Din kod här"
   ]
  },
  {
   "cell_type": "markdown",
   "id": "878acb82",
   "metadata": {},
   "source": [
    "### 6. Villkor – beslutslogik\n",
    "\n",
    "Skriv tre små program (i samma eller separata kodceller):\n",
    "\n",
    "\n",
    "1. **Teckenkontroll:** Fråga efter ett heltal. Skriv ut `Negativt`, `Noll` eller `Positivt` beroende på värdet.\n",
    "2. **Åldersgrupp:** Fråga efter en ålder. Skriv ut `Barn` (< 13), `Ungdom` (13–19), `Vuxen` (20–64) eller `Senior` (65+).\n",
    "3. **Jämnt/Udda:** Fråga efter ett heltal och skriv ut om det är **jämnt** eller **udda**."
   ]
  },
  {
   "cell_type": "code",
   "execution_count": null,
   "id": "1673fb20",
   "metadata": {},
   "outputs": [],
   "source": [
    "# Din kod här"
   ]
  },
  {
   "cell_type": "markdown",
   "id": "268bf19b",
   "metadata": {},
   "source": [
    "### 7. Felsökning – villkor 🐞\n",
    "Koden ska skriva `Godkänt` om poängen är minst 50, annars `Icke godkänt`. **Rätta** så att den funkar."
   ]
  },
  {
   "cell_type": "code",
   "execution_count": null,
   "id": "d02a2528",
   "metadata": {},
   "outputs": [],
   "source": [
    "score = input(\"Poäng (0-100): \")\n",
    "p = int(score)\n",
    "if p = 50:\n",
    "    print(\"Godkänt\")\n",
    "elif:\n",
    "    print(\"Icke godkänt\")"
   ]
  },
  {
   "cell_type": "markdown",
   "id": "1af5fc77",
   "metadata": {},
   "source": [
    "### 8. Listor – grunder\n",
    "1. Skapa listan `nums = [5, 1, 7, 2, 9, 2]`.\n",
    "2. Skriv ut första och sista elementet.\n",
    "3. Skapa en ny lista med de tre första elementen.\n",
    "4. Lägg till `10` sist i nums.\n",
    "5. Räkna hur många gånger `2` förekommer.\n",
    "6. Skapa en **sorterad kopia** utan att förstöra originalet."
   ]
  },
  {
   "cell_type": "code",
   "execution_count": null,
   "id": "72c87f0e",
   "metadata": {},
   "outputs": [],
   "source": [
    "# Din kod här"
   ]
  },
  {
   "cell_type": "markdown",
   "id": "05023918",
   "metadata": {},
   "source": [
    "### 9. Listor – redigera & summera\n",
    "\n",
    "utgå ifrån listan nums i den förra uppgiften och skriv kod som:\n",
    "\n",
    "1. Byter ut det **andra** elementet i listan mot `100`.\n",
    "2. Summerar alla tal i listan med en `for`-loop.\n",
    "3. Summerar alla tal i listan med sum()\n",
    "4. Tar fram **minsta** och **största** tal **utan** att använda `min`/`max` – använd egna variabler och jämförelser i en loop."
   ]
  },
  {
   "cell_type": "code",
   "execution_count": null,
   "id": "400ee0bf",
   "metadata": {},
   "outputs": [],
   "source": [
    "# Din kod här"
   ]
  },
  {
   "cell_type": "markdown",
   "id": "73472b5c",
   "metadata": {},
   "source": [
    "### 10. For-loopar\n",
    "1. Skriv ut orden och deras längd för `words = [\"python\", \"data\", \"loop\"]`.\n",
    "2. Skriv siffrorna 1–20 på en rad, men ersätt jämna tal med `*`.\n",
    "3. Skapa en lista med kvadraterna av talen 1–10."
   ]
  },
  {
   "cell_type": "code",
   "execution_count": null,
   "id": "aa6ca38c",
   "metadata": {},
   "outputs": [],
   "source": [
    "# Din kod här"
   ]
  },
  {
   "cell_type": "markdown",
   "id": "c6c9037d",
   "metadata": {},
   "source": [
    "### 11. Felsökning - Loopar 🐞\n",
    "Hitta felet och rätta till"
   ]
  },
  {
   "cell_type": "code",
   "execution_count": null,
   "id": "15bb8278",
   "metadata": {},
   "outputs": [],
   "source": [
    "for i in range(1, 6):\n",
    "print(i)"
   ]
  },
  {
   "cell_type": "markdown",
   "id": "b77d3b59",
   "metadata": {},
   "source": [
    "### 12. While-loopar\n",
    "1. Summera talen 1..n där `n` läses in med `input`.\n",
    "2. Gissa talet: välj ett tal 1–10 (antingen med random eller så väljer du det manuellt) sätt det i en variabel, användaren gissar tills rätt. Ge återkoppling `För högt`/`För lågt` om du vill.\n",
    "3. **Samla ord**: Fråga efter ord i en loop tills användaren matar en **tom rad**. Skriv sedan ut **hur många** ord som matades in."
   ]
  },
  {
   "cell_type": "code",
   "execution_count": null,
   "id": "647a659d",
   "metadata": {},
   "outputs": [],
   "source": [
    "# Din kod här"
   ]
  },
  {
   "cell_type": "markdown",
   "id": "1249b771",
   "metadata": {},
   "source": [
    "### 13. Felsökning – Loopar 🐞\n",
    "Denna loop är oändlig. hitta felet och rätta till.  \n",
    "(Om du kör kodblocket kommer du behöva stänga av manuellt så inte minnet blir fullt)"
   ]
  },
  {
   "cell_type": "code",
   "execution_count": null,
   "id": "843283da",
   "metadata": {},
   "outputs": [],
   "source": [
    "n = 5\n",
    "while n > 0:\n",
    "    print(n)"
   ]
  },
  {
   "cell_type": "markdown",
   "id": "d3dd1091",
   "metadata": {},
   "source": [
    "## 14. Kombinationsuppgifter\n",
    "\n",
    "1. **Lösenordskoll:** be om ett lösenord och skriv `OK` om det är minst **6 tecken** och innehåller tecknet **`!`**, annars `Inte OK`.\n",
    "\n",
    "2. **Text-analys:** be om en mening och skriv ut:\n",
    "\n",
    "   - **antal ord** (använd `split()`),\n",
    "\n",
    "   - **antal vokaler** (`aouåeiyäöAOUÅEIYÄÖ`),\n",
    "\n",
    "   - **det längsta ordet** (om flera lika långa – vilket som helst är ok)."
   ]
  },
  {
   "cell_type": "code",
   "execution_count": null,
   "id": "ed91ed76",
   "metadata": {},
   "outputs": [],
   "source": [
    "# Din kod här"
   ]
  },
  {
   "cell_type": "markdown",
   "id": "3a5697d7",
   "metadata": {},
   "source": [
    "### 15. Miniprojekt – FizzBuzz\n",
    "\n",
    "**Vad ska göras?** Be användaren om ett heltal `N` och skriv ut talen från `1` till `N` med följande regler:\n",
    "\n",
    "- Skriv **`Fizz`** i stället för talet om det är delbart med **3**.\n",
    "\n",
    "- Skriv **`Buzz`** i stället för talet om det är delbart med **5**.\n",
    "\n",
    "- Skriv **`FizzBuzz`** om talet är delbart med **både 3 och 5**.\n",
    "\n",
    "- Annars skriver du **själva talet**.\n",
    "\n",
    "\n",
    "**Exempel (för N = 16):**\n",
    "\n",
    "`1, 2, Fizz, 4, Buzz, Fizz, 7, 8, Fizz, Buzz, 11, Fizz, 13, 14, FizzBuzz, 16`\n",
    "\n",
    "\n",
    "Skriv koden så rakt och enkelt du kan."
   ]
  },
  {
   "cell_type": "code",
   "execution_count": null,
   "id": "cf2d5cd5",
   "metadata": {},
   "outputs": [],
   "source": [
    "# Din kod här"
   ]
  }
 ],
 "metadata": {
  "kernelspec": {
   "display_name": ".venv",
   "language": "python",
   "name": "python3"
  },
  "language_info": {
   "codemirror_mode": {
    "name": "ipython",
    "version": 3
   },
   "file_extension": ".py",
   "mimetype": "text/x-python",
   "name": "python",
   "nbconvert_exporter": "python",
   "pygments_lexer": "ipython3",
   "version": "3.13.7"
  }
 },
 "nbformat": 4,
 "nbformat_minor": 5
}
