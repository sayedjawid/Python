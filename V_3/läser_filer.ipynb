{
 "cells": [
  {
   "cell_type": "code",
   "execution_count": 6,
   "id": "249b769d",
   "metadata": {},
   "outputs": [
    {
     "name": "stdout",
     "output_type": "stream",
     "text": [
      "Rad 1 Ã¶Ã¤Ã¥ Lorem ipsum dolor sit amet consectetur adipisicing elit. Sunt dolorum non natus vero blanditiis neque fugit explicabo sint amet dicta. Alias harum facilis sequi porro reiciendis modi aperiam, obcaecati similique? Eum qui eligendi quae vel veniam debitis soluta ad tempora?\n",
      "Rad 2 Lorem ipsum dolor sit amet consectetur adipisicing elit. Sunt dolorum non natus vero blanditiis neque fugit explicabo sint amet dicta. Alias harum facilis sequi porro reiciendis modi aperiam, obcaecati similique? Eum qui eligendi quae vel veniam debitis soluta ad tempora?\n",
      "Rad 3 Lorem ipsum dolor sit amet consectetur adipisicing elit. Sunt dolorum non natus vero blanditiis neque fugit explicabo sint amet dicta. Alias harum facilis sequi porro reiciendis modi aperiam, obcaecati similique? Eum qui eligendi quae vel veniam debitis soluta ad tempora?\n",
      "Lorem ipsum dolor sit amet consectetur adipisicing elit. Sunt dolorum non natus vero blanditiis neque fugit explicabo sint amet dicta. Alias harum facilis sequi porro reiciendis modi aperiam, obcaecati similique? Eum qui eligendi quae vel veniam debitis soluta ad tempora?\n",
      "Lorem ipsum dolor sit amet consectetur adipisicing elit. Sunt dolorum non natus vero blanditiis neque fugit explicabo sint amet dicta. Alias harum facilis sequi porro reiciendis modi aperiam, obcaecati similique? Eum qui eligendi quae vel veniam debitis soluta ad tempora?\n",
      "Lorem ipsum dolor sit amet consectetur adipisicing elit. Sunt dolorum non natus vero blanditiis neque fugit explicabo sint amet dicta. Alias harum facilis sequi porro reiciendis modi aperiam, obcaecati similique? Eum qui eligendi quae vel veniam debitis soluta ad tempora?\n",
      "Lorem ipsum dolor sit amet consectetur adipisicing elit. Sunt dolorum non natus vero blanditiis neque fugit explicabo sint amet dicta. Alias harum facilis sequi porro reiciendis modi aperiam, obcaecati similique? Eum qui eligendi quae vel veniam debitis soluta ad tempora?\n",
      "Lorem ipsum dolor sit amet consectetur adipisicing elit. Sunt dolorum non natus vero blanditiis neque fugit explicabo sint amet dicta. Alias harum facilis sequi porro reiciendis modi aperiam, obcaecati similique? Eum qui eligendi quae vel veniam debitis soluta ad tempora?\n",
      "Lorem ipsum dolor sit amet consectetur adipisicing elit. Sunt dolorum non natus vero blanditiis neque fugit explicabo sint amet dicta. Alias harum facilis sequi porro reiciendis modi aperiam, obcaecati similique? Eum qui eligendi quae vel veniam debitis soluta ad tempora?\n",
      "Lorem ipsum dolor sit amet consectetur adipisicing elit. Sunt dolorum non natus vero blanditiis neque fugit explicabo sint amet dicta. Alias harum facilis sequi porro reiciendis modi aperiam, obcaecati similique? Eum qui eligendi quae vel veniam debitis soluta ad tempora?\n",
      "Lorem ipsum dolor sit amet consectetur adipisicing elit. Sunt dolorum non natus vero blanditiis neque fugit explicabo sint amet dicta. Alias harum facilis sequi porro reiciendis modi aperiam, obcaecati similique? Eum qui eligendi quae vel veniam debitis soluta ad tempora?\n"
     ]
    }
   ],
   "source": [
    "file = open('files/example.txt', 'r')\n",
    "content = file.read() # läser hela filen som en string\n",
    "file.close()\n",
    "print(content)"
   ]
  },
  {
   "cell_type": "code",
   "execution_count": 15,
   "id": "9acf5038",
   "metadata": {},
   "outputs": [
    {
     "name": "stdout",
     "output_type": "stream",
     "text": [
      "Rad 1 Ã¶Ã¤Ã¥ Lorem ipsum dolor sit amet consectetur adipisicing elit. Sunt dolorum non natus vero blanditiis neque fugit explicabo sint amet dicta. Alias harum facilis sequi porro reiciendis modi aperiam, obcaecati similique? Eum qui eligendi quae vel veniam debitis soluta ad tempora?\n",
      "Rad 2 Lorem ipsum dolor sit amet consectetur adipisicing elit. Sunt dolorum non natus vero blanditiis neque fugit explicabo sint amet dicta. Alias harum facilis sequi porro reiciendis modi aperiam, obcaecati similique? Eum qui eligendi quae vel veniam debitis soluta ad tempora?\n",
      "Rad 3 Lorem ipsum dolor sit amet consectetur adipisicing elit. Sunt dolorum non natus vero blanditiis neque fugit explicabo sint amet dicta. Alias harum facilis sequi porro reiciendis modi aperiam, obcaecati similique? Eum qui eligendi quae vel veniam debitis soluta ad tempora?\n",
      "Lorem ipsum dolor sit amet consectetur adipisicing elit. Sunt dolorum non natus vero blanditiis neque fugit explicabo sint amet dicta. Alias harum facilis sequi porro reiciendis modi aperiam, obcaecati similique? Eum qui eligendi quae vel veniam debitis soluta ad tempora?\n",
      "Lorem ipsum dolor sit amet consectetur adipisicing elit. Sunt dolorum non natus vero blanditiis neque fugit explicabo sint amet dicta. Alias harum facilis sequi porro reiciendis modi aperiam, obcaecati similique? Eum qui eligendi quae vel veniam debitis soluta ad tempora?\n",
      "Lorem ipsum dolor sit amet consectetur adipisicing elit. Sunt dolorum non natus vero blanditiis neque fugit explicabo sint amet dicta. Alias harum facilis sequi porro reiciendis modi aperiam, obcaecati similique? Eum qui eligendi quae vel veniam debitis soluta ad tempora?\n",
      "Lorem ipsum dolor sit amet consectetur adipisicing elit. Sunt dolorum non natus vero blanditiis neque fugit explicabo sint amet dicta. Alias harum facilis sequi porro reiciendis modi aperiam, obcaecati similique? Eum qui eligendi quae vel veniam debitis soluta ad tempora?\n",
      "Lorem ipsum dolor sit amet consectetur adipisicing elit. Sunt dolorum non natus vero blanditiis neque fugit explicabo sint amet dicta. Alias harum facilis sequi porro reiciendis modi aperiam, obcaecati similique? Eum qui eligendi quae vel veniam debitis soluta ad tempora?\n",
      "Lorem ipsum dolor sit amet consectetur adipisicing elit. Sunt dolorum non natus vero blanditiis neque fugit explicabo sint amet dicta. Alias harum facilis sequi porro reiciendis modi aperiam, obcaecati similique? Eum qui eligendi quae vel veniam debitis soluta ad tempora?\n",
      "Lorem ipsum dolor sit amet consectetur adipisicing elit. Sunt dolorum non natus vero blanditiis neque fugit explicabo sint amet dicta. Alias harum facilis sequi porro reiciendis modi aperiam, obcaecati similique? Eum qui eligendi quae vel veniam debitis soluta ad tempora?\n",
      "Lorem ipsum dolor sit amet consectetur adipisicing elit. Sunt dolorum non natus vero blanditiis neque fugit explicabo sint amet dicta. Alias harum facilis sequi porro reiciendis modi aperiam, obcaecati similique? Eum qui eligendi quae vel veniam debitis soluta ad tempora?\n"
     ]
    }
   ],
   "source": [
    "with open('files/example.txt') as file:\n",
    "    file_content = file.read()\n",
    "    print(file_content)"
   ]
  },
  {
   "cell_type": "code",
   "execution_count": 17,
   "id": "3066a83b",
   "metadata": {},
   "outputs": [
    {
     "name": "stdout",
     "output_type": "stream",
     "text": [
      "Rad 1 Ã¶Ã¤Ã¥ Lorem ipsum dolor sit amet consectetur adipisicing elit. Sunt dolorum non natus vero blanditiis neque fugit explicabo sint amet dicta. Alias harum facilis sequi porro reiciendis modi aperiam, obcaecati similique? Eum qui eligendi quae vel veniam debitis soluta ad tempora?\n",
      "\n",
      "Rad 2 Lorem ipsum dolor sit amet consectetur adipisicing elit. Sunt dolorum non natus vero blanditiis neque fugit explicabo sint amet dicta. Alias harum facilis sequi porro reiciendis modi aperiam, obcaecati similique? Eum qui eligendi quae vel veniam debitis soluta ad tempora?\n",
      "\n"
     ]
    }
   ],
   "source": [
    "with open('files/example.txt') as file:\n",
    "    first_line = file.readline() # läser in första raden\n",
    "    second_line = file.readline()\n",
    "\n",
    "    print(first_line)\n",
    "    print(second_line)"
   ]
  },
  {
   "cell_type": "code",
   "execution_count": 21,
   "id": "7d0dca7e",
   "metadata": {},
   "outputs": [
    {
     "name": "stdout",
     "output_type": "stream",
     "text": [
      "['Rad 1 Ã¶Ã¤Ã¥ Lorem ipsum dolor sit amet consectetur adipisicing elit. Sunt dolorum non natus vero blanditiis neque fugit explicabo sint amet dicta. Alias harum facilis sequi porro reiciendis modi aperiam, obcaecati similique? Eum qui eligendi quae vel veniam debitis soluta ad tempora?\\n', 'Rad 2 Lorem ipsum dolor sit amet consectetur adipisicing elit. Sunt dolorum non natus vero blanditiis neque fugit explicabo sint amet dicta. Alias harum facilis sequi porro reiciendis modi aperiam, obcaecati similique? Eum qui eligendi quae vel veniam debitis soluta ad tempora?\\n', 'Rad 3 Lorem ipsum dolor sit amet consectetur adipisicing elit. Sunt dolorum non natus vero blanditiis neque fugit explicabo sint amet dicta. Alias harum facilis sequi porro reiciendis modi aperiam, obcaecati similique? Eum qui eligendi quae vel veniam debitis soluta ad tempora?\\n', 'Lorem ipsum dolor sit amet consectetur adipisicing elit. Sunt dolorum non natus vero blanditiis neque fugit explicabo sint amet dicta. Alias harum facilis sequi porro reiciendis modi aperiam, obcaecati similique? Eum qui eligendi quae vel veniam debitis soluta ad tempora?\\n', 'Lorem ipsum dolor sit amet consectetur adipisicing elit. Sunt dolorum non natus vero blanditiis neque fugit explicabo sint amet dicta. Alias harum facilis sequi porro reiciendis modi aperiam, obcaecati similique? Eum qui eligendi quae vel veniam debitis soluta ad tempora?\\n', 'Lorem ipsum dolor sit amet consectetur adipisicing elit. Sunt dolorum non natus vero blanditiis neque fugit explicabo sint amet dicta. Alias harum facilis sequi porro reiciendis modi aperiam, obcaecati similique? Eum qui eligendi quae vel veniam debitis soluta ad tempora?\\n', 'Lorem ipsum dolor sit amet consectetur adipisicing elit. Sunt dolorum non natus vero blanditiis neque fugit explicabo sint amet dicta. Alias harum facilis sequi porro reiciendis modi aperiam, obcaecati similique? Eum qui eligendi quae vel veniam debitis soluta ad tempora?\\n', 'Lorem ipsum dolor sit amet consectetur adipisicing elit. Sunt dolorum non natus vero blanditiis neque fugit explicabo sint amet dicta. Alias harum facilis sequi porro reiciendis modi aperiam, obcaecati similique? Eum qui eligendi quae vel veniam debitis soluta ad tempora?\\n', 'Lorem ipsum dolor sit amet consectetur adipisicing elit. Sunt dolorum non natus vero blanditiis neque fugit explicabo sint amet dicta. Alias harum facilis sequi porro reiciendis modi aperiam, obcaecati similique? Eum qui eligendi quae vel veniam debitis soluta ad tempora?\\n', 'Lorem ipsum dolor sit amet consectetur adipisicing elit. Sunt dolorum non natus vero blanditiis neque fugit explicabo sint amet dicta. Alias harum facilis sequi porro reiciendis modi aperiam, obcaecati similique? Eum qui eligendi quae vel veniam debitis soluta ad tempora?\\n', 'Lorem ipsum dolor sit amet consectetur adipisicing elit. Sunt dolorum non natus vero blanditiis neque fugit explicabo sint amet dicta. Alias harum facilis sequi porro reiciendis modi aperiam, obcaecati similique? Eum qui eligendi quae vel veniam debitis soluta ad tempora?']\n"
     ]
    }
   ],
   "source": [
    "with open('files/example.txt') as file:\n",
    "    lines = file.readlines()\n",
    "    print(lines)\n",
    "    "
   ]
  },
  {
   "cell_type": "code",
   "execution_count": 24,
   "id": "6721c565",
   "metadata": {},
   "outputs": [
    {
     "name": "stdout",
     "output_type": "stream",
     "text": [
      "Rad 1 Ã¶Ã¤Ã¥ Lorem ipsum dolor sit amet consectetur adipisicing elit. Sunt dolorum non natus vero blanditiis neque fugit explicabo sint amet dicta. Alias harum facilis sequi porro reiciendis modi aperiam, obcaecati similique? Eum qui eligendi quae vel veniam debitis soluta ad tempora?\n",
      "Rad 2 Lorem ipsum dolor sit amet consectetur adipisicing elit. Sunt dolorum non natus vero blanditiis neque fugit explicabo sint amet dicta. Alias harum facilis sequi porro reiciendis modi aperiam, obcaecati similique? Eum qui eligendi quae vel veniam debitis soluta ad tempora?\n",
      "Rad 3 Lorem ipsum dolor sit amet consectetur adipisicing elit. Sunt dolorum non natus vero blanditiis neque fugit explicabo sint amet dicta. Alias harum facilis sequi porro reiciendis modi aperiam, obcaecati similique? Eum qui eligendi quae vel veniam debitis soluta ad tempora?\n",
      "Lorem ipsum dolor sit amet consectetur adipisicing elit. Sunt dolorum non natus vero blanditiis neque fugit explicabo sint amet dicta. Alias harum facilis sequi porro reiciendis modi aperiam, obcaecati similique? Eum qui eligendi quae vel veniam debitis soluta ad tempora?\n",
      "Lorem ipsum dolor sit amet consectetur adipisicing elit. Sunt dolorum non natus vero blanditiis neque fugit explicabo sint amet dicta. Alias harum facilis sequi porro reiciendis modi aperiam, obcaecati similique? Eum qui eligendi quae vel veniam debitis soluta ad tempora?\n",
      "Lorem ipsum dolor sit amet consectetur adipisicing elit. Sunt dolorum non natus vero blanditiis neque fugit explicabo sint amet dicta. Alias harum facilis sequi porro reiciendis modi aperiam, obcaecati similique? Eum qui eligendi quae vel veniam debitis soluta ad tempora?\n",
      "Lorem ipsum dolor sit amet consectetur adipisicing elit. Sunt dolorum non natus vero blanditiis neque fugit explicabo sint amet dicta. Alias harum facilis sequi porro reiciendis modi aperiam, obcaecati similique? Eum qui eligendi quae vel veniam debitis soluta ad tempora?\n",
      "Lorem ipsum dolor sit amet consectetur adipisicing elit. Sunt dolorum non natus vero blanditiis neque fugit explicabo sint amet dicta. Alias harum facilis sequi porro reiciendis modi aperiam, obcaecati similique? Eum qui eligendi quae vel veniam debitis soluta ad tempora?\n",
      "Lorem ipsum dolor sit amet consectetur adipisicing elit. Sunt dolorum non natus vero blanditiis neque fugit explicabo sint amet dicta. Alias harum facilis sequi porro reiciendis modi aperiam, obcaecati similique? Eum qui eligendi quae vel veniam debitis soluta ad tempora?\n",
      "Lorem ipsum dolor sit amet consectetur adipisicing elit. Sunt dolorum non natus vero blanditiis neque fugit explicabo sint amet dicta. Alias harum facilis sequi porro reiciendis modi aperiam, obcaecati similique? Eum qui eligendi quae vel veniam debitis soluta ad tempora?\n",
      "Lorem ipsum dolor sit amet consectetur adipisicing elit. Sunt dolorum non natus vero blanditiis neque fugit explicabo sint amet dicta. Alias harum facilis sequi porro reiciendis modi aperiam, obcaecati similique? Eum qui eligendi quae vel veniam debitis soluta ad tempora?\n"
     ]
    }
   ],
   "source": [
    "with open('files/example.txt') as file:\n",
    "    for line in lines:\n",
    "        print(line.rstrip())"
   ]
  },
  {
   "cell_type": "code",
   "execution_count": 33,
   "id": "e521bec4",
   "metadata": {},
   "outputs": [
    {
     "name": "stdout",
     "output_type": "stream",
     "text": [
      "Filen hittade inte. Kontrollera filnamn och sökväg\n"
     ]
    }
   ],
   "source": [
    "try:\n",
    "    with open('files/misiing.txt', 'r', encoding='utf-8') as f:\n",
    "        data = f.read()\n",
    "        print(data)\n",
    "except FileNotFoundError:\n",
    "    print('Filen hittade inte. Kontrollera filnamn och sökväg')"
   ]
  },
  {
   "cell_type": "code",
   "execution_count": 38,
   "id": "eb5599cc",
   "metadata": {},
   "outputs": [
    {
     "name": "stdout",
     "output_type": "stream",
     "text": [
      "1: Rad 1 öäå Lorem ipsum dolor sit amet consectetur adipisicing elit. Sunt dolorum non natus vero blanditiis neque fugit explicabo sint amet dicta. Alias harum facilis sequi porro reiciendis modi aperiam, obcaecati similique? Eum qui eligendi quae vel veniam debitis soluta ad tempora?\n",
      "2: Rad 2 Lorem ipsum dolor sit amet consectetur adipisicing elit. Sunt dolorum non natus vero blanditiis neque fugit explicabo sint amet dicta. Alias harum facilis sequi porro reiciendis modi aperiam, obcaecati similique? Eum qui eligendi quae vel veniam debitis soluta ad tempora?\n",
      "3: Rad 3 Lorem ipsum dolor sit amet consectetur adipisicing elit. Sunt dolorum non natus vero blanditiis neque fugit explicabo sint amet dicta. Alias harum facilis sequi porro reiciendis modi aperiam, obcaecati similique? Eum qui eligendi quae vel veniam debitis soluta ad tempora?\n",
      "4: Lorem ipsum dolor sit amet consectetur adipisicing elit. Sunt dolorum non natus vero blanditiis neque fugit explicabo sint amet dicta. Alias harum facilis sequi porro reiciendis modi aperiam, obcaecati similique? Eum qui eligendi quae vel veniam debitis soluta ad tempora?\n",
      "5: Lorem ipsum dolor sit amet consectetur adipisicing elit. Sunt dolorum non natus vero blanditiis neque fugit explicabo sint amet dicta. Alias harum facilis sequi porro reiciendis modi aperiam, obcaecati similique? Eum qui eligendi quae vel veniam debitis soluta ad tempora?\n",
      "6: Lorem ipsum dolor sit amet consectetur adipisicing elit. Sunt dolorum non natus vero blanditiis neque fugit explicabo sint amet dicta. Alias harum facilis sequi porro reiciendis modi aperiam, obcaecati similique? Eum qui eligendi quae vel veniam debitis soluta ad tempora?\n",
      "7: Lorem ipsum dolor sit amet consectetur adipisicing elit. Sunt dolorum non natus vero blanditiis neque fugit explicabo sint amet dicta. Alias harum facilis sequi porro reiciendis modi aperiam, obcaecati similique? Eum qui eligendi quae vel veniam debitis soluta ad tempora?\n",
      "8: Lorem ipsum dolor sit amet consectetur adipisicing elit. Sunt dolorum non natus vero blanditiis neque fugit explicabo sint amet dicta. Alias harum facilis sequi porro reiciendis modi aperiam, obcaecati similique? Eum qui eligendi quae vel veniam debitis soluta ad tempora?\n",
      "9: Lorem ipsum dolor sit amet consectetur adipisicing elit. Sunt dolorum non natus vero blanditiis neque fugit explicabo sint amet dicta. Alias harum facilis sequi porro reiciendis modi aperiam, obcaecati similique? Eum qui eligendi quae vel veniam debitis soluta ad tempora?\n",
      "10: Lorem ipsum dolor sit amet consectetur adipisicing elit. Sunt dolorum non natus vero blanditiis neque fugit explicabo sint amet dicta. Alias harum facilis sequi porro reiciendis modi aperiam, obcaecati similique? Eum qui eligendi quae vel veniam debitis soluta ad tempora?\n",
      "11: Lorem ipsum dolor sit amet consectetur adipisicing elit. Sunt dolorum non natus vero blanditiis neque fugit explicabo sint amet dicta. Alias harum facilis sequi porro reiciendis modi aperiam, obcaecati similique? Eum qui eligendi quae vel veniam debitis soluta ad tempora?\n"
     ]
    }
   ],
   "source": [
    "with open('files/example.txt', 'r', encoding='utf-8') as f:\n",
    "    for i, line in enumerate(f, start=1):\n",
    "        \n",
    "        print(f'{i}: {line.strip()}')"
   ]
  },
  {
   "cell_type": "code",
   "execution_count": 42,
   "id": "0a6b6678",
   "metadata": {},
   "outputs": [
    {
     "name": "stdout",
     "output_type": "stream",
     "text": [
      "Medelvärdet: 49.15\n"
     ]
    }
   ],
   "source": [
    "values = []\n",
    "\n",
    "with open('files/numbers.txt', 'r', encoding='utf-8') as numbers_file:\n",
    "    for line in numbers_file:\n",
    "        line = line.strip()\n",
    "        if line:  # hoppas över tomma rader\n",
    "            values.append(float(line))\n",
    "\n",
    "if values:\n",
    "    avg = sum(values) / len(values)\n",
    "    print(f'Medelvärdet: {avg}')\n",
    "\n",
    "else:\n",
    "    print('Inga tal i filen!')\n",
    "\n"
   ]
  },
  {
   "cell_type": "markdown",
   "id": "a8c1d495",
   "metadata": {},
   "source": [
    "### Skriva till filer"
   ]
  },
  {
   "cell_type": "code",
   "execution_count": 55,
   "id": "88129c59",
   "metadata": {},
   "outputs": [],
   "source": [
    "with open('files/example2.txt', 'w', encoding='utf-8') as f:\n",
    "    f.write('Hello world!\\n')\n",
    "    f.write('Det här är första taden i filen\\n')\n"
   ]
  },
  {
   "cell_type": "code",
   "execution_count": 57,
   "id": "aa72e03f",
   "metadata": {},
   "outputs": [],
   "source": [
    "with open('files/example2.txt', 'a', encoding='utf-8') as f: # a = append anars den tar bort den gamla texten\n",
    "    f.write('hej på er')"
   ]
  },
  {
   "cell_type": "code",
   "execution_count": 58,
   "id": "1b869d79",
   "metadata": {},
   "outputs": [
    {
     "name": "stdout",
     "output_type": "stream",
     "text": [
      "Hello world!\n",
      "Det här är första taden i filen\n",
      "hej på er\n"
     ]
    }
   ],
   "source": [
    "with open('files/example2.txt', 'r', encoding='utf-8') as f:\n",
    "    \n",
    "    print(f.read())\n"
   ]
  },
  {
   "cell_type": "code",
   "execution_count": 65,
   "id": "34b1ae83",
   "metadata": {},
   "outputs": [],
   "source": [
    "lines = ['Rad 1\\n', 'Rad 2\\n', 'Rad 3\\n', 'Rad 4\\n']\n",
    "\n",
    "with open('files/multilines.txt', 'w', encoding='utf-8') as f:\n",
    "    read_file = f.writelines(lines)\n"
   ]
  },
  {
   "cell_type": "code",
   "execution_count": 66,
   "id": "43987089",
   "metadata": {},
   "outputs": [],
   "source": [
    "while True:\n",
    "    note = input('Skriv en anteckning eller \"q\" för att avsluta!')\n",
    "    if note.lower() == 'q':\n",
    "        break\n",
    "    with open('files/notes.txt', 'a', encoding='utf-8') as file:\n",
    "        file.write(note + \"\\n\")"
   ]
  },
  {
   "cell_type": "markdown",
   "id": "3c4d2b30",
   "metadata": {},
   "source": [
    "## CSV & JSON"
   ]
  },
  {
   "cell_type": "code",
   "execution_count": 67,
   "id": "831bcddd",
   "metadata": {},
   "outputs": [],
   "source": [
    "import csv\n",
    "with open('files/cars.csv', 'w', newline='', encoding='utf-8') as file:\n",
    "    writer = csv.writer(file)\n",
    "    writer.writerow(['Reg', 'Color'])\n",
    "    writer.writerow(['ABC1234', 'Red'])\n",
    "    writer.writerow(['XYZ789', 'Blue'])\n"
   ]
  },
  {
   "cell_type": "code",
   "execution_count": 82,
   "id": "c0878d2c",
   "metadata": {},
   "outputs": [
    {
     "name": "stdout",
     "output_type": "stream",
     "text": [
      "Reg: Reg\n",
      "Color: Color \n",
      "\n",
      "Reg: ABC1234\n",
      "Color: Red \n",
      "\n",
      "Reg: XYZ789\n",
      "Color: Blue \n",
      "\n"
     ]
    }
   ],
   "source": [
    "with open('files/cars.csv', 'r', encoding='utf-8') as file:\n",
    "    reader = csv.reader(file)\n",
    "    for row in reader:\n",
    "        print('Reg:', row[0])\n",
    "        \n",
    "        print('Color:', row[1],'\\n')\n",
    "        "
   ]
  },
  {
   "cell_type": "code",
   "execution_count": 90,
   "id": "bc80efb5",
   "metadata": {},
   "outputs": [],
   "source": [
    "import json\n",
    "\n",
    "data = {\n",
    "    'name': 'ali', \n",
    "    'age': 29,\n",
    "    'city': 'mölndal',\n",
    "    'is_married': True, \n",
    "    'is_student': True,\n",
    "    'is_rich': False\n",
    "}\n",
    "\n",
    "with open('files/person.json', 'w', encoding='utf-8') as file:\n",
    "    json.dump(data, file, indent=4, ensure_ascii=False)"
   ]
  },
  {
   "cell_type": "code",
   "execution_count": 100,
   "id": "c574162a",
   "metadata": {},
   "outputs": [
    {
     "name": "stdout",
     "output_type": "stream",
     "text": [
      "name: ali\n",
      "age: 29\n",
      "city: mölndal\n",
      "is_married: True\n",
      "is_student: True\n",
      "is_rich: False\n",
      "Persons name is: Ali\n"
     ]
    }
   ],
   "source": [
    "with open('files/person.json', 'r', encoding='utf-8') as file:\n",
    "    person = json.load(file)\n",
    "    for key, value in person.items():\n",
    "        if value is str:\n",
    "            value.title()\n",
    "        print(f'{key}: {value}')\n",
    "\n",
    "\n",
    "print(f'Persons name is: {person['name'].title()}')"
   ]
  },
  {
   "cell_type": "code",
   "execution_count": 112,
   "id": "efa6fbd3",
   "metadata": {},
   "outputs": [
    {
     "name": "stdout",
     "output_type": "stream",
     "text": [
      "{'name': 'Ali', 'age': 29, 'city': 'Mölndal', 'is_married': True, 'is_student': True, 'is_rich': False}\n",
      "Persons name is: Ali\n"
     ]
    }
   ],
   "source": [
    "with open('files/person.json', 'r', encoding='utf-8') as file:\n",
    "    person = json.load(file)\n",
    "    for key, value in person.items():\n",
    "        if isinstance(value, str):\n",
    "            person[key] =value.title()\n",
    "            \n",
    "    print(person)\n",
    "\n",
    "\n",
    "print(f'Persons name is: {person['name'].title()}')"
   ]
  },
  {
   "cell_type": "code",
   "execution_count": 105,
   "id": "aa0956d6",
   "metadata": {},
   "outputs": [
    {
     "name": "stdout",
     "output_type": "stream",
     "text": [
      "{'name': 'Sara Ali', 'age': 30, 'city': 'Stockholm', 'country': 'Sweden', 'score': 95}\n"
     ]
    }
   ],
   "source": [
    "data = {\n",
    "    \"name\": \"sara ali\",\n",
    "    \"age\": 30,\n",
    "    \"city\": \"stockholm\",\n",
    "    \"country\": \"sweden\",\n",
    "    \"score\": 95\n",
    "}\n",
    "\n",
    "# Gå igenom varje nyckel och värde\n",
    "for key, value in data.items():\n",
    "    if isinstance(value, str):       # kolla om värdet är en sträng\n",
    "        data[key] = value.title()    # ändra till Title Case\n",
    "\n",
    "print(data)\n"
   ]
  },
  {
   "cell_type": "markdown",
   "id": "d7213d9b",
   "metadata": {},
   "source": [
    "### Tuples\n"
   ]
  },
  {
   "cell_type": "code",
   "execution_count": 113,
   "id": "ead37c90",
   "metadata": {},
   "outputs": [
    {
     "name": "stdout",
     "output_type": "stream",
     "text": [
      "3 4\n"
     ]
    }
   ],
   "source": [
    "x = 3\n",
    "y = 4\n",
    "print(x,y)"
   ]
  },
  {
   "cell_type": "code",
   "execution_count": 129,
   "id": "2d9af3b4",
   "metadata": {},
   "outputs": [
    {
     "name": "stdout",
     "output_type": "stream",
     "text": [
      "[10, 4]\n",
      "(13, 4)\n"
     ]
    }
   ],
   "source": [
    "coord_list = [3, 4] # lista -paket som vi kan ändra\n",
    "coord_tuple = (3, 4) # tuple- pakeet som inte kan ändras\n",
    "\n",
    "coord_list[0] = 10\n",
    "# coord_tuple[0] = 19\n",
    "coord_tuple = (coord_tuple[0] + 10, coord_tuple[1])\n",
    "\n",
    "\n",
    "\n",
    "print(coord_list)\n",
    "print(coord_tuple)"
   ]
  },
  {
   "cell_type": "code",
   "execution_count": 132,
   "id": "687a7f6c",
   "metadata": {},
   "outputs": [
    {
     "name": "stdout",
     "output_type": "stream",
     "text": [
      "(3, 4)\n",
      "3\n",
      "4\n",
      "2\n"
     ]
    }
   ],
   "source": [
    "p = (3, 4)\n",
    "print(p)\n",
    "print(p[0])\n",
    "print(p[1])\n",
    "print(len(p))"
   ]
  },
  {
   "cell_type": "code",
   "execution_count": 133,
   "id": "188fee5e",
   "metadata": {},
   "outputs": [
    {
     "name": "stdout",
     "output_type": "stream",
     "text": [
      "3 4\n"
     ]
    }
   ],
   "source": [
    "x, y = p # unpacking\n",
    "print(x, y)"
   ]
  },
  {
   "cell_type": "code",
   "execution_count": 136,
   "id": "65a2878d",
   "metadata": {},
   "outputs": [
    {
     "name": "stdout",
     "output_type": "stream",
     "text": [
      "1 Ali\n",
      "2 Sayed\n",
      "3 Hassan\n",
      "dict_items([('name', 'ali'), ('age', 29)])\n"
     ]
    }
   ],
   "source": [
    "names = ['Ali', 'Sayed', 'Hassan']\n",
    "for index, name in enumerate(names, start=1):\n",
    "    print(index, name)\n",
    "\n",
    "\n",
    "person = {'name': 'ali', 'age': 29}\n",
    "print(person.items())"
   ]
  },
  {
   "cell_type": "code",
   "execution_count": 139,
   "id": "18234278",
   "metadata": {},
   "outputs": [
    {
     "name": "stdout",
     "output_type": "stream",
     "text": [
      "10\n",
      "12\n"
     ]
    }
   ],
   "source": [
    "def minmax(a, b):\n",
    "    return (min(a, b), max(a, b))\n",
    "\n",
    "low, high = minmax(10, 12)\n",
    "\n",
    "print(low)\n",
    "print(high)\n"
   ]
  },
  {
   "cell_type": "code",
   "execution_count": 143,
   "id": "150f910c",
   "metadata": {},
   "outputs": [
    {
     "name": "stdout",
     "output_type": "stream",
     "text": [
      "(20, 30, 40)\n",
      "c: (1, 2, 3, 4)\n",
      "1\n",
      "3\n"
     ]
    }
   ],
   "source": [
    "t = (10, 20, 30, 40, 50)\n",
    "print(t[1:4])\n",
    "a = (1,2)\n",
    "b = (3, 4)\n",
    "c = a + b \n",
    "print(f'c: {c}')\n",
    "print(c.count(2))\n",
    "print(c.index(4))"
   ]
  },
  {
   "cell_type": "code",
   "execution_count": 145,
   "id": "6f575937",
   "metadata": {},
   "outputs": [
    {
     "name": "stdout",
     "output_type": "stream",
     "text": [
      "head: 100\n",
      "rests: [200, 300, 400, 500]\n"
     ]
    }
   ],
   "source": [
    "head, *rest = (100, 200, 300, 400, 500)\n",
    "print(f'head: {head}')\n",
    "print(f'rests: {rest}')"
   ]
  },
  {
   "cell_type": "code",
   "execution_count": null,
   "id": "6c05afd6",
   "metadata": {},
   "outputs": [],
   "source": []
  },
  {
   "cell_type": "code",
   "execution_count": null,
   "id": "b87e7f30",
   "metadata": {},
   "outputs": [],
   "source": []
  },
  {
   "cell_type": "code",
   "execution_count": null,
   "id": "2f1faf66",
   "metadata": {},
   "outputs": [],
   "source": []
  },
  {
   "cell_type": "code",
   "execution_count": null,
   "id": "90f43449",
   "metadata": {},
   "outputs": [],
   "source": []
  },
  {
   "cell_type": "code",
   "execution_count": null,
   "id": "3f27fcfa",
   "metadata": {},
   "outputs": [],
   "source": []
  }
 ],
 "metadata": {
  "kernelspec": {
   "display_name": ".venv",
   "language": "python",
   "name": "python3"
  },
  "language_info": {
   "codemirror_mode": {
    "name": "ipython",
    "version": 3
   },
   "file_extension": ".py",
   "mimetype": "text/x-python",
   "name": "python",
   "nbconvert_exporter": "python",
   "pygments_lexer": "ipython3",
   "version": "3.13.7"
  }
 },
 "nbformat": 4,
 "nbformat_minor": 5
}
