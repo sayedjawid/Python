{
 "cells": [
  {
   "cell_type": "markdown",
   "id": "2395f888",
   "metadata": {},
   "source": [
    "## OOP"
   ]
  },
  {
   "cell_type": "code",
   "execution_count": 15,
   "id": "2d271bc1",
   "metadata": {},
   "outputs": [],
   "source": [
    "# class Point:\n",
    "#     def __init__(self, x, y):\n",
    "#         self.x = x\n",
    "#         self.y = y\n",
    "\n",
    "#     # method räkna avstånd to origo\n",
    "#     def distance_to_origin(self):\n",
    "#         return (self.x**2 + self.y**2) ** 0.5\n",
    "    \n",
    "\n",
    "#     def move(self, dx=0, dy=0):\n",
    "#         self.x = self.x + dx\n",
    "#         self.y = self.y + dy\n",
    "\n",
    "\n",
    "# p1 = Point(3, 4)\n",
    "# p2 = Point(4, 8)\n",
    "# print('P1:', p1.x, p1.y)\n",
    "# print(f'P1 avstånd: {p1.distance_to_origin()}')\n",
    "# p1.move(dy=1)\n",
    "# print(f'P1 efter flytt:',  p1.x, p1.y)\n",
    "\n",
    "# print(f'P1 efter flytt: {p1.distance_to_origin()}')\n"
   ]
  },
  {
   "cell_type": "code",
   "execution_count": 16,
   "id": "e7a7f3f9",
   "metadata": {},
   "outputs": [],
   "source": [
    "# class Account:\n",
    "#     def __init(self, owner: str, balance: float = 0.0):\n",
    "#         self.owner = owner\n",
    "#         self.balance = balance\n",
    "#         self._balance = 0.0\n",
    "\n",
    "#     @property\n",
    "#     def balance(self):\n",
    "#         return self._balance\n",
    "    \n",
    "\n",
    "#     @balance.setter\n",
    "#     def balance(self, value:float):\n",
    "#         if value < 0:\n",
    "#             raise ValueError('Balance may not be negative.')\n",
    "#         self._balance = float(value)\n",
    "        "
   ]
  },
  {
   "cell_type": "code",
   "execution_count": 33,
   "id": "d810becb",
   "metadata": {},
   "outputs": [
    {
     "name": "stdout",
     "output_type": "stream",
     "text": [
      "3\n",
      "Archer shot. 2 arrows left.\n",
      "Archer shot. 1 arrows left.\n",
      "Archer shot. 0 arrows left.\n",
      "0\n",
      "human\n",
      "This is a class method in Archer class.\n",
      "This is a class method in Archer class.\n",
      "Archer shot. 4 arrows left.\n",
      "This is a static method in Archer class.\n"
     ]
    }
   ],
   "source": [
    "class Archer:\n",
    "\n",
    "    species = 'human'\n",
    "\n",
    "    def __init__(self, hp, mana, arrows):\n",
    "        self.hp = hp\n",
    "        self.mana = mana    \n",
    "        self.arrows = arrows\n",
    "\n",
    "    def shoot(self):\n",
    "        if self.arrows > 0:\n",
    "            self.arrows -= 1\n",
    "            print(f'Archer shot. {self.arrows} arrows left.')\n",
    "            \n",
    "        else:\n",
    "            print('Archer can not shoot. No arrows left to shoot.')\n",
    "\n",
    "    \n",
    "    @classmethod\n",
    "    def clsmethod(cls):\n",
    "        print('This is a class method in Archer class.')\n",
    "        \n",
    "\n",
    "    @classmethod\n",
    "    def from_string(cls, data_string):\n",
    "        hp, mana, arrows = map(int, data_string.split('-'))\n",
    "        return cls(hp, mana, arrows)\n",
    "        \n",
    "\n",
    "\n",
    "    @staticmethod\n",
    "    def static():\n",
    "        print('This is a static method in Archer class.')\n",
    "\n",
    "\n",
    "\n",
    "archer1 = Archer(hp = 100, mana = 100, arrows=3)\n",
    "\n",
    "print(archer1.arrows)\n",
    "\n",
    "archer1.shoot()\n",
    "archer1.shoot()\n",
    "archer1.shoot()\n",
    "print(archer1.arrows)\n",
    "\n",
    "print(archer1.species)\n",
    "\n",
    "Archer.clsmethod() # man kan få till gång class metoden utan att skapa en instans men man kan också kalla på den via en instans\n",
    "archer1.clsmethod()\n",
    "\n",
    "\n",
    "archer1 = Archer.from_string('100-100-5')  # fel sätt att kalla på class metoden\n",
    "archer1.shoot()\n",
    "\n",
    "\n",
    "Archer.static()"
   ]
  },
  {
   "cell_type": "markdown",
   "id": "ea68b71d",
   "metadata": {},
   "source": [
    "### magicmethod\n"
   ]
  },
  {
   "cell_type": "code",
   "execution_count": 41,
   "id": "65d47122",
   "metadata": {},
   "outputs": [
    {
     "name": "stdout",
     "output_type": "stream",
     "text": [
      "Archer with 180 hp and 150 mana and 13 arrows\n"
     ]
    }
   ],
   "source": [
    "class Archer:\n",
    "\n",
    "    species = 'human'\n",
    "\n",
    "    def __init__(self, hp, mana, arrows):\n",
    "        self.hp = hp\n",
    "        self.mana = mana    \n",
    "        self.arrows = arrows\n",
    "\n",
    "\n",
    "    def __str__(self):\n",
    "        return f'Archer with {self.hp} hp and {self.mana} mana and {self.arrows} arrows'\n",
    "\n",
    "    def __repr__(self):\n",
    "        return f'Archer(hp={self.hp}, mana={self.mana}, arrows={self.arrows})'\n",
    "    \n",
    "    def __add__(self, other):\n",
    "        if not isinstance(other, Archer):\n",
    "            return NotImplemented\n",
    "        new_hp = self.hp + other.hp\n",
    "        new_mana = self.mana + other.mana\n",
    "        new_arrows = self.arrows + other.arrows\n",
    "        return Archer(new_hp, new_mana, new_arrows)\n",
    "    \n",
    "\n",
    "archer1 = Archer(hp = 100, mana = 100, arrows=3)\n",
    "archer2 = Archer(hp = 80, mana = 50, arrows=10)\n",
    "archer3 = archer1 + archer2\n",
    "print(archer3)  # calls __str__"
   ]
  },
  {
   "cell_type": "code",
   "execution_count": 75,
   "id": "cbf31e57",
   "metadata": {},
   "outputs": [
    {
     "name": "stdout",
     "output_type": "stream",
     "text": [
      "100\n",
      "I am walking\n",
      "Casting spell\n",
      "80\n",
      "I am walking\n",
      "5\n",
      "Shooting arrow, 4 arrows left\n",
      "Shooting arrow, 3 arrows left\n",
      "3\n"
     ]
    }
   ],
   "source": [
    "class BasePlayer:\n",
    "    def __init__(self, hp):\n",
    "        self.hp = hp\n",
    "\n",
    "\n",
    "    def walk(self):\n",
    "        print('I am walking')\n",
    "\n",
    "\n",
    "class Wizzard(BasePlayer):\n",
    "    def __init__(self, hp, mana):\n",
    "        super().__init__(hp)\n",
    "        self.mana = mana\n",
    "\n",
    "    def cast_spell(self):\n",
    "        print('Casting spell')    \n",
    "\n",
    "\n",
    "class Archer(BasePlayer):\n",
    "    def __init__(self, hp, arrows):\n",
    "        super().__init__(hp)\n",
    "        self.arrows = arrows\n",
    "\n",
    "    def shoot(self):\n",
    "        self.arrows -= 1\n",
    "        print(f'Shooting arrow, {self.arrows} arrows left')\n",
    "\n",
    "\n",
    "\n",
    "wizzard1 = Wizzard(hp=100, mana=200)\n",
    "print(wizzard1.hp)\n",
    "\n",
    "wizzard1.walk()\n",
    "wizzard1.cast_spell()\n",
    "\n",
    "archer1 = Archer(hp=80, arrows=5)\n",
    "print(archer1.hp)   \n",
    "archer1.walk()\n",
    "print(archer1.arrows)\n",
    "archer1.shoot()\n",
    "archer1.shoot()\n",
    "print(archer1.arrows)"
   ]
  },
  {
   "cell_type": "code",
   "execution_count": 81,
   "id": "49a0a6e0",
   "metadata": {},
   "outputs": [
    {
     "name": "stdout",
     "output_type": "stream",
     "text": [
      "Basic Bow 50 15\n",
      "Advanced Bow 150 30\n",
      "{'name': 'Basic Bow', 'price': 50, 'damage': 15}\n",
      "{'name': 'Advanced Bow', 'price': 150, 'damage': 30}\n"
     ]
    }
   ],
   "source": [
    "# class Bow:\n",
    "#     def __init__(self, name, price, damage):\n",
    "#         self.name = name\n",
    "#         self.price = price\n",
    "#         self.damage = damage\n",
    "\n",
    "# bow_a = Bow('Basic Bow', 50, 15)\n",
    "# print(bow_a.name, bow_a.price, bow_a.damage)\n",
    "# print(bow_a.__dict__)\n",
    "\n",
    "#  data classe\n",
    "from dataclasses import dataclass\n",
    "@dataclass\n",
    "class Bow:\n",
    "    name: str \n",
    "    price: float\n",
    "    damage: float\n",
    "bow_1 = Bow('Basic Bow', 50, 15)\n",
    "print(bow_1.name, bow_1.price, bow_1.damage)\n",
    "\n",
    "bow_2 = Bow('Advanced Bow', 150, 30)\n",
    "print(bow_2.name, bow_2.price, bow_2.damage)\n",
    "\n",
    "print(bow_1.__dict__) \n",
    "print(bow_2.__dict__)"
   ]
  },
  {
   "cell_type": "code",
   "execution_count": null,
   "id": "95a509e0",
   "metadata": {},
   "outputs": [
    {
     "name": "stdout",
     "output_type": "stream",
     "text": [
      "Class D created\n",
      "Hello from class C\n"
     ]
    }
   ],
   "source": [
    "class A:\n",
    "    def say_hello(self):\n",
    "        print('Hello from class A')\n",
    "\n",
    "class B(A):\n",
    "    def say_hello(self):\n",
    "        print('Hello from class B')\n",
    "\n",
    "class C(A):\n",
    "    def say_hello(self):\n",
    "        print('Hello from class C')\n",
    "\n",
    "class D(C, B):   # D ärver från C och B och kollar först på C classen och om hittar inget så går den över till B classen\n",
    "    print('Class D created')\n",
    "\n",
    "d = D()\n",
    "d.say_hello()  # Which say_hello is called?"
   ]
  },
  {
   "cell_type": "code",
   "execution_count": 94,
   "id": "1939df0c",
   "metadata": {},
   "outputs": [
    {
     "name": "stdout",
     "output_type": "stream",
     "text": [
      "25\n",
      "32.5\n"
     ]
    }
   ],
   "source": [
    "class Archer:\n",
    "    def __init__(self, hp, dmg):\n",
    "        self._hp = hp\n",
    "        self._dmg = dmg\n",
    "        self.crit = 1.3\n",
    "        self._overall_damage = self._dmg * self.crit\n",
    "\n",
    "\n",
    "    @property # denna funktion gör så att man kan komma åt hp som en attribut istället för att kalla på en metod\n",
    "    def dmg(self):\n",
    "        return self._dmg\n",
    "    \n",
    "\n",
    "archer1 = Archer(100, 25)\n",
    "print(archer1.dmg)\n",
    "print(archer1._overall_damage)"
   ]
  },
  {
   "cell_type": "code",
   "execution_count": null,
   "id": "81795408",
   "metadata": {},
   "outputs": [],
   "source": []
  },
  {
   "cell_type": "code",
   "execution_count": null,
   "id": "656bae2a",
   "metadata": {},
   "outputs": [],
   "source": []
  },
  {
   "cell_type": "code",
   "execution_count": null,
   "id": "e50cfe6d",
   "metadata": {},
   "outputs": [],
   "source": []
  },
  {
   "cell_type": "code",
   "execution_count": 54,
   "id": "4c4f6b20",
   "metadata": {},
   "outputs": [
    {
     "name": "stdout",
     "output_type": "stream",
     "text": [
      "Woof!\n",
      "John Doe\n",
      "555-1234\n",
      "123 Main St\n"
     ]
    }
   ],
   "source": [
    "class Dog:\n",
    "    def __init__(self, name, breed, owner):\n",
    "        self.name = name\n",
    "        self.breed = breed\n",
    "        self.owner = owner\n",
    "\n",
    "    def bark(self):\n",
    "        return 'Woof!'\n",
    "    \n",
    "\n",
    "# dog owner class\n",
    "\n",
    "class Owner:\n",
    "    def __init__(self, name, address, contact_number):\n",
    "        self.name = name\n",
    "        self.address = address\n",
    "        self.phone_number = contact_number\n",
    "\n",
    "\n",
    "    \n",
    "\n",
    "owner1 = Owner('John Doe', '123 Main St', '555-1234')\n",
    "dog1 = Dog('Fido', 'Labrador', owner1)\n",
    "print(dog1.bark())\n",
    "print(dog1.owner.name)  # Accessing owner's name through dog instance\n",
    "print(dog1.owner.phone_number)  # Accessing owner's contact number through dog instance\n",
    "print(dog1.owner.address)  # Accessing owner's address through dog instance"
   ]
  },
  {
   "cell_type": "code",
   "execution_count": 58,
   "id": "d5c1c248",
   "metadata": {},
   "outputs": [
    {
     "name": "stdout",
     "output_type": "stream",
     "text": [
      "Hello my name is: Sayed Ali Mortazawi and I am 29 years old.\n"
     ]
    }
   ],
   "source": [
    "class Person:\n",
    "    def __init__(self, name, age):\n",
    "        self.name = name\n",
    "        self.age = age\n",
    "\n",
    "\n",
    "    def greet(self):\n",
    "        return f'Hello my name is: {self.name.title()} and I am {self.age} years old.'\n",
    "    \n",
    "\n",
    "p1 = Person(input('Name: '), int(input('Age: ')))\n",
    "print(p1.greet())"
   ]
  },
  {
   "cell_type": "code",
   "execution_count": null,
   "id": "4936e71a",
   "metadata": {},
   "outputs": [
    {
     "name": "stdout",
     "output_type": "stream",
     "text": [
      "Sending message to Superman: Hi Superman! It's Batman.\n",
      "Sending message to Batman: Hi Batman! It's sims.\n",
      "The email is: simson@gmail.com\n"
     ]
    }
   ],
   "source": [
    "class User:\n",
    "    def __init__(self, username, email, password):\n",
    "        self.username = username\n",
    "        self._email = email\n",
    "        self.password = password\n",
    "\n",
    "    \n",
    "    def say_hi_to_user(self, user):\n",
    "        print(f'Sending message to {user.username}: Hi {user.username}! It\\'s {self.username}.')\n",
    "\n",
    "\n",
    "    def get_email(self):\n",
    "        return self._email, self.password\n",
    "    \n",
    "    def clean_email(self):\n",
    "        return self._email.lower().strip() \n",
    "    \n",
    "\n",
    "\n",
    "\n",
    "user_1 = User(input('Username: '), input('Email: '), input('Password: '))\n",
    "user1 = User('Batman', 'bat@bat.com', 'abcd')\n",
    "user2 = User('Superman','super@super.com', 'sssss')\n",
    "\n",
    "user1.say_hi_to_user(user2)\n",
    "user_1.say_hi_to_user(user1)\n",
    "\n",
    "user_1.get_email()\n",
    "print(f'The email is: {user_1.clean_email()}')"
   ]
  },
  {
   "cell_type": "code",
   "execution_count": 103,
   "id": "21612cd8",
   "metadata": {},
   "outputs": [
    {
     "name": "stdout",
     "output_type": "stream",
     "text": [
      "P1: 3 4\n",
      "P2: 4 8\n",
      "P1 avstånd: 5.0\n",
      "P2 avstånd: 8.94427190999916\n",
      "P1 efter flytt:,  (4, 5)\n",
      "p2 efter flytt: (6, 10)\n",
      "The X point: 4, and the Y point: 5\n"
     ]
    }
   ],
   "source": [
    "class Point:\n",
    "    def __init__(self, x, y):\n",
    "        self.x = x\n",
    "        self.y = y\n",
    "\n",
    "\n",
    "    def __reprer__(self):\n",
    "        cls = type(self).__name__\n",
    "\n",
    "        return f'{cls}(x=({self.x}, y = {self.y})'\n",
    "\n",
    "    def __str__(self):\n",
    "        return f'The X point: {self.x}, and the Y point: {self.y}'\n",
    "    \n",
    "    def __eq__(self, value):\n",
    "            if not isinstance(value, Point):\n",
    "                return NotImplemented\n",
    "\n",
    "    #  en method räkna avstånd to origo\n",
    "    def distance_to_origin(self):\n",
    "        return (self.x**2 + self.y **2) ** 0.5\n",
    "    \n",
    "    def move(self, dx, dy):\n",
    "        self.x = self.x + dx \n",
    "        self.y = self.y + dy\n",
    "        \n",
    "\n",
    "p1 = Point(3, 4)\n",
    "p2 = Point(4, 8)\n",
    "print('P1:', p1.x, p1.y)\n",
    "print('P2:',p2.x, p2.y)\n",
    "\n",
    "print(f'P1 avstånd: {p1.distance_to_origin()}')\n",
    "print(f'P2 avstånd: {p2.distance_to_origin()}')\n",
    "\n",
    "p1.move(dy=1, dx=1)\n",
    "print(f'P1 efter flytt:,  {p1.x, p1.y}')\n",
    "\n",
    "p2.move(dx=2, dy=2)\n",
    "print(f'p2 efter flytt: {p2.x, p2.y}')\n",
    "\n",
    "print(p1)"
   ]
  },
  {
   "cell_type": "markdown",
   "id": "bc20dcbf",
   "metadata": {},
   "source": [
    "#### Inkapsling- att gömma detaljer  och presentera en enkel yta\n",
    "- Publikt: inga underscores, avsett för andra.\n",
    "- Internt (konvention): _internt_name\n",
    "- Name mangling: __namn -> ändrar namnet till _Klassnamn__namn -> Minskar risk för krock i arv"
   ]
  },
  {
   "cell_type": "code",
   "execution_count": 106,
   "id": "e749cf2a",
   "metadata": {},
   "outputs": [
    {
     "name": "stdout",
     "output_type": "stream",
     "text": [
      "P1: 3 4\n",
      "P2: 4 8\n",
      "P1 efter flytt:,  (4, 5)\n",
      "p2 efter flytt: (6, 10)\n",
      "The X point: 4, and the Y point: 5\n",
      "6.4031242374328485\n"
     ]
    }
   ],
   "source": [
    "class Point:\n",
    "    def __init__(self, x, y):\n",
    "        self.x = x\n",
    "        self.y = y\n",
    "\n",
    "\n",
    "    def __reprer__(self):\n",
    "        cls = type(self).__name__\n",
    "\n",
    "        return f'{cls}(x=({self.x}, y = {self.y})'\n",
    "\n",
    "    def __str__(self):\n",
    "        return f'The X point: {self.x}, and the Y point: {self.y}'\n",
    "    \n",
    "    def __eq__(self, value):\n",
    "            if not isinstance(value, Point):\n",
    "                return NotImplemented\n",
    "\n",
    "    #  en method räkna avstånd to origo\n",
    "    # def distance_to_origin(self):\n",
    "    #     return (self.x**2 + self.y **2) ** 0.5\n",
    "    \n",
    "    @property\n",
    "    def magnitude(self) -> float:\n",
    "         # beräknat fält - ser ut som ett attribut vid användning\n",
    "         return (self.x**2 + self.y **2) ** 0.5\n",
    "    \n",
    "    def move(self, dx, dy):\n",
    "        self.x = self.x + dx \n",
    "        self.y = self.y + dy\n",
    "        \n",
    "\n",
    "p1 = Point(3, 4)\n",
    "p2 = Point(4, 8)\n",
    "print('P1:', p1.x, p1.y)\n",
    "print('P2:',p2.x, p2.y)\n",
    "\n",
    "# print(f'P1 avstånd: {p1.distance_to_origin()}')\n",
    "# print(f'P2 avstånd: {p2.distance_to_origin()}')\n",
    "\n",
    "p1.move(dy=1, dx=1)\n",
    "print(f'P1 efter flytt:,  {p1.x, p1.y}')\n",
    "\n",
    "p2.move(dx=2, dy=2)\n",
    "print(f'p2 efter flytt: {p2.x, p2.y}')\n",
    "\n",
    "print(p1)\n",
    "\n",
    "print(p1.magnitude)"
   ]
  },
  {
   "cell_type": "code",
   "execution_count": 122,
   "id": "cae30a7e",
   "metadata": {},
   "outputs": [
    {
     "name": "stdout",
     "output_type": "stream",
     "text": [
      "Owner name: Sayed\n",
      "Account balance: 100.0\n",
      "Updated balance: 100.0\n",
      "Balance after deposit: 1100.0\n",
      "Balance after withdrawal: 1000.0\n"
     ]
    }
   ],
   "source": [
    "class Account:\n",
    "    def __init__(self, owner:str, balance: float =0.0):\n",
    "        self.owner = owner\n",
    "        # internt fält - signalerar att det inte ska ändras direkt eller 'Rör inte utifrån'\n",
    "        self._balance = 0.0\n",
    "        # använd property för att få validering även vid initiering\n",
    "        self.balance = balance  \n",
    "\n",
    "\n",
    "    @property\n",
    "    def balance(self):\n",
    "        return self._balance\n",
    "    \n",
    "\n",
    "    @balance.setter\n",
    "    def balance(self, value:float):\n",
    "        if value < 0:\n",
    "            raise ValueError('Balance may not be negative.')\n",
    "        self._balance = float(value)\n",
    "\n",
    "\n",
    "    def deposit(self, amount: float):\n",
    "        if amount <= 0:\n",
    "            raise ValueError('Deposit amount must be positive.')\n",
    "        self.balance += amount\n",
    "\n",
    "\n",
    "    def withdraw(self, amount:float):\n",
    "        if amount <= 0:\n",
    "            raise ValueError('Withdraw amount must be positive.')\n",
    "        if amount > self.balance:\n",
    "            raise ValueError('Insufficient funds.')\n",
    "        self.balance -= amount\n",
    "\n",
    "\n",
    "\n",
    "account1 = Account('Sayed', 100.0)\n",
    "print(f'Owner name: {account1.owner}')\n",
    "print(f'Account balance: {account1.balance}')\n",
    "\n",
    "print(f\"Updated balance: {account1.balance}\")     \n",
    "# account1.balance = -50.0  # raises ValueError \n",
    "\n",
    "account1.deposit(1000.0)\n",
    "print(f\"Balance after deposit: {account1.balance}\")\n",
    "\n",
    "account1.withdraw(100)  # raises ValueError: Insufficient funds.\n",
    "print(f\"Balance after withdrawal: {account1.balance}\")\n"
   ]
  },
  {
   "cell_type": "markdown",
   "id": "bd986d60",
   "metadata": {},
   "source": [
    "* Sammansättning (has-a): En varkorg **har** varor\n",
    "* ARV (is-a): En hund är ett **djur**"
   ]
  },
  {
   "cell_type": "code",
   "execution_count": 132,
   "id": "95e39091",
   "metadata": {},
   "outputs": [
    {
     "name": "stdout",
     "output_type": "stream",
     "text": [
      "Item(name= Apple, price=1000, quantity=10)\n",
      "Line total: 10000\n"
     ]
    }
   ],
   "source": [
    "class Item:\n",
    "    def __init__(self, name:str, price:float, quantity:int=1):\n",
    "        self.name = name\n",
    "        self.price = price\n",
    "        self.quantity = quantity\n",
    "\n",
    "    def __repr__(self):\n",
    "        return f'Item(name= {self.name.title()}, price={self.price}, quantity={self.quantity})'\n",
    "    \n",
    "    @property\n",
    "    def line_total(self):\n",
    "        return self.price * self.quantity\n",
    "    \n",
    "\n",
    "item1 = Item('apple', 1000, 10)\n",
    "print(item1)\n",
    "print(f'Line total: {item1.line_total}')"
   ]
  },
  {
   "cell_type": "code",
   "execution_count": 176,
   "id": "f86f8bf0",
   "metadata": {},
   "outputs": [],
   "source": [
    "from typing import List \n",
    "\n",
    "class Cart:\n",
    "    def __init__(self):\n",
    "        self._items: List[Item] = []  # list to hold Item objects\n",
    "\n",
    "    def add_item(self, item:Item):\n",
    "        for existing_item in self._items:\n",
    "            if existing_item.name == item.name and existing_item.price == item.price:  # om samma vara läggs till öka bara kvantiteten\n",
    "                existing_item += item.quantity # öka kvantiteten\n",
    "                return # avsluta metoden här och läg inte den i listan om den redan finns men öka quantity med 1\n",
    "            \n",
    "        self._items.append(item)\n",
    "            \n",
    "        \n",
    "    def remove_by_name(self, name:str):\n",
    "        for idx, it in enumerate(self._items):\n",
    "            if it.name == name:\n",
    "                del self._items[idx]\n",
    "                return True\n",
    "        return False\n",
    "\n",
    "\n",
    "    def find(self, name:str):\n",
    "        for it in self._items:\n",
    "            if it.name == name:\n",
    "                return it\n",
    "        return None\n",
    "    \n"
   ]
  },
  {
   "cell_type": "code",
   "execution_count": 185,
   "id": "c26251ad",
   "metadata": {},
   "outputs": [
    {
     "name": "stdout",
     "output_type": "stream",
     "text": [
      "[Item(name= Apple, price=10.0, quantity=2), Item(name= Banana, price=5.0, quantity=3), Item(name= Ssd, price=10.0, quantity=4)]\n",
      "[Item(name= Apple, price=10.0, quantity=2), Item(name= Ssd, price=10.0, quantity=4)]\n"
     ]
    }
   ],
   "source": [
    "cart1 = Cart()\n",
    "cart1.add_item(Item('apple', 10.0, 2))\n",
    "cart1.add_item(Item('banana', 5.0, 3))  \n",
    "\n",
    "\n",
    "cart1.add_item(Item('SSD', 10.0, 4))  # should increase quantity of apple to 6\n",
    "\n",
    "\n",
    "print(cart1._items)\n",
    "cart1.remove_by_name('banana')\n",
    "cart1.find('SSD')\n",
    "print(cart1._items)"
   ]
  },
  {
   "cell_type": "markdown",
   "id": "d757ae05",
   "metadata": {},
   "source": [
    "### ARV"
   ]
  },
  {
   "cell_type": "code",
   "execution_count": 186,
   "id": "c19241e0",
   "metadata": {},
   "outputs": [],
   "source": [
    "class Shape:\n",
    "    def __init__(self, name:str, color:str = 'black'):\n",
    "        self.name = name\n",
    "        self.color = color\n",
    "\n",
    "\n",
    "    def area(self):\n",
    "        raise NotImplementedError('Subclasses must implement area method.')\n",
    "\n",
    "    def describe(self):\n",
    "        return f'Shape name:{self.name.title()}, color: {self.color.title()} has area: {self.area():.2f}' \n",
    "    \n",
    "    def __repr__(self):\n",
    "        return f'Shape(name={self.name.title()!r}, color={self.color.title()!r})'"
   ]
  },
  {
   "cell_type": "code",
   "execution_count": 188,
   "id": "ebba25e5",
   "metadata": {},
   "outputs": [
    {
     "name": "stdout",
     "output_type": "stream",
     "text": [
      "The area of circle1 is: 78.54\n",
      "The area of rectangle1 is: 24.00\n",
      "Shape name:Circle, color: Red has area: 78.54\n",
      "Shape name:Rectangle, color: Blue has area: 24.00\n"
     ]
    }
   ],
   "source": [
    "import math\n",
    "class Circle(Shape):\n",
    "    def __init__(self, radius:float, color:str='black'):\n",
    "        super().__init__(name ='Circle', color = color)\n",
    "        self.radius = radius\n",
    "\n",
    "\n",
    "    def area(self):\n",
    "        return math.pi * (self.radius ** 2)\n",
    "    \n",
    "    def __repr__(self):\n",
    "        return f'Circle(radius={self.radius}, color={self.color.title()!r})'\n",
    "    \n",
    "\n",
    "class Rectangle(Shape):\n",
    "    def __init__(self, width:float, height:float, color:str='black'):\n",
    "        super().__init__(name='Rectangle', color=color)\n",
    "        self.width = width\n",
    "        self.height = height\n",
    "\n",
    "\n",
    "    def area(self):\n",
    "        return self.width * self.height\n",
    "    \n",
    "\n",
    "    def __repr__(self):\n",
    "        return f'Rectangle(width={self.width}, height={self.height}, color={self.color.title()!r})'\n",
    "    \n",
    "\n",
    "\n",
    "circle1 = Circle(radius=5, color='red')\n",
    "rectangle1 = Rectangle(width=4, height=6, color='blue')\n",
    "print(f'The area of circle1 is: {circle1.area():.2f}')\n",
    "print(f'The area of rectangle1 is: {rectangle1.area():.2f}')\n",
    "\n",
    "print(circle1.describe())\n",
    "print(rectangle1.describe())"
   ]
  },
  {
   "cell_type": "code",
   "execution_count": 189,
   "metadata": {},
   "outputs": [
    {
     "name": "stdout",
     "output_type": "stream",
     "text": [
      "Shape name:Circle, color: Green has area: 28.27\n",
      "Shape name:Rectangle, color: Yellow has area: 10.00\n",
      "Shape name:Circle, color: Yellow has area: 153.94\n",
      "Shape name:Rectangle, color: Blue has area: 16.00\n"
     ]
    }
   ],
   "source": [
    "shapes : list[Shape] = [Circle(3, 'green'), Rectangle(2, 5, 'yellow'), Circle(7, 'yellow'), Rectangle(4, 4, 'blue')]\n",
    "\n",
    "for shape in shapes:\n",
    "    print(shape.describe())"
   ]
  },
  {
   "cell_type": "code",
   "execution_count": 190,
   "id": "cc3dec87",
   "metadata": {},
   "outputs": [
    {
     "name": "stdout",
     "output_type": "stream",
     "text": [
      "Total area of all shapes: 208.21\n"
     ]
    }
   ],
   "source": [
    "def total_area(shapes:list[Shape]):\n",
    "    return sum(shape.area() for shape in shapes)\n",
    "\n",
    "print(f'Total area of all shapes: {total_area(shapes):.2f}')"
   ]
  },
  {
   "cell_type": "code",
   "execution_count": null,
   "id": "0b8b637f",
   "metadata": {},
   "outputs": [],
   "source": []
  },
  {
   "cell_type": "markdown",
   "id": "ac1db187",
   "metadata": {},
   "source": [
    "## OOP Dataklasser"
   ]
  },
  {
   "cell_type": "code",
   "execution_count": 201,
   "id": "8fa89bca",
   "metadata": {},
   "outputs": [
    {
     "name": "stdout",
     "output_type": "stream",
     "text": [
      "Item 1: banana, Price: 5.0, Quantity: 3\n",
      "Item 2: orange, Price: 7.0, Quantity: 1\n"
     ]
    }
   ],
   "source": [
    "# class Item:\n",
    "#     def __init__(self, name:str, price:float, quantity:int=1):\n",
    "#         self.name = name\n",
    "#         self.price = price\n",
    "#         self.quantity = quantity\n",
    "\n",
    "#     def __repr__(self):\n",
    "#         return f'Item(name= {self.name.title()}, price={self.price}, quantity={self.quantity})'\n",
    "    \n",
    "#     @property\n",
    "#     def line_total(self):\n",
    "#         return self.price * self.quantity\n",
    "    \n",
    "\n",
    "# item1 = Item('apple', 1000, 10)\n",
    "# print(item1)\n",
    "# print(f'Line total: {item1.line_total}')\n",
    "\n",
    "\n",
    "from dataclasses import dataclass\n",
    "\n",
    "@dataclass\n",
    "class Item:\n",
    "    name:str\n",
    "    price:float\n",
    "    quantity:int = 1\n",
    "\n",
    "\n",
    "i1 = Item('banana', 5.0, 3)\n",
    "i2 = Item('orange', 7.0)\n",
    "print(f'Item 1: {i1.name}, Price: {i1.price}, Quantity: {i1.quantity}')\n",
    "print(f'Item 2: {i2.name}, Price: {i2.price}, Quantity: {i2.quantity}')"
   ]
  },
  {
   "cell_type": "code",
   "execution_count": 211,
   "id": "12126165",
   "metadata": {},
   "outputs": [
    {
     "name": "stdout",
     "output_type": "stream",
     "text": [
      "[Item(name='laptop', price=1500.0, quantity=1)]\n",
      "Ali\n",
      "[Item(name='phone', price=800.0, quantity=2), Item(name='headphones', price=150.0, quantity=1)]\n",
      "Sara\n"
     ]
    }
   ],
   "source": [
    "from typing import List\n",
    "from dataclasses import dataclass, field\n",
    "\n",
    "@dataclass\n",
    "class Order:\n",
    "    customer:str\n",
    "    items: List[Item] = field(default_factory=list)\n",
    "\n",
    "or1 = Order('Ali')\n",
    "or1.items.append(Item('laptop', 1500.0, 1))\n",
    "or2 = Order('Sara', [Item('phone', 800.0, 2), Item('headphones', 150.0, 1)])\n",
    "print(or1.items)\n",
    "print(or1.customer)\n",
    "print(or2.items)\n",
    "print(or2.customer)"
   ]
  },
  {
   "cell_type": "code",
   "execution_count": null,
   "id": "64cad537",
   "metadata": {},
   "outputs": [],
   "source": []
  },
  {
   "cell_type": "code",
   "execution_count": null,
   "id": "43b1f138",
   "metadata": {},
   "outputs": [],
   "source": []
  },
  {
   "cell_type": "code",
   "execution_count": null,
   "id": "8efe9531",
   "metadata": {},
   "outputs": [],
   "source": []
  }
 ],
 "metadata": {
  "kernelspec": {
   "display_name": ".venv",
   "language": "python",
   "name": "python3"
  },
  "language_info": {
   "codemirror_mode": {
    "name": "ipython",
    "version": 3
   },
   "file_extension": ".py",
   "mimetype": "text/x-python",
   "name": "python",
   "nbconvert_exporter": "python",
   "pygments_lexer": "ipython3",
   "version": "3.13.7"
  }
 },
 "nbformat": 4,
 "nbformat_minor": 5
}
