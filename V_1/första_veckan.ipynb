{
 "cells": [
  {
   "cell_type": "markdown",
   "id": "4a6a240b",
   "metadata": {},
   "source": [
    "### STRINGS"
   ]
  },
  {
   "cell_type": "markdown",
   "id": "dc1f36a1",
   "metadata": {},
   "source": [
    "<!-- STRINGS -->"
   ]
  },
  {
   "cell_type": "code",
   "execution_count": 11,
   "id": "a8e535b5",
   "metadata": {},
   "outputs": [
    {
     "name": "stdout",
     "output_type": "stream",
     "text": [
      "Hej, jag heter Sayed Jawid Mortazawi, and I am 29 years old.\n",
      "<class 'int'>\n",
      "58\n"
     ]
    }
   ],
   "source": [
    "first_name = 'Sayed Jawid'\n",
    "last_name = 'Mortazawi'\n",
    "age = 29\n",
    "\n",
    "full_name = f'Hej, jag heter {first_name.title()} {last_name.title()}, and I am {str(age)} years old.'\n",
    "print(full_name)\n",
    "print(type(age))\n",
    "print(age * 2)"
   ]
  },
  {
   "cell_type": "code",
   "execution_count": 22,
   "id": "26f2b88e",
   "metadata": {},
   "outputs": [
    {
     "name": "stdout",
     "output_type": "stream",
     "text": [
      "li Mortazaw\n"
     ]
    }
   ],
   "source": [
    "name = 'Ali Mortazawi'\n",
    "print(name[1:-1])"
   ]
  },
  {
   "cell_type": "code",
   "execution_count": 34,
   "id": "7c72f2db",
   "metadata": {},
   "outputs": [
    {
     "name": "stdout",
     "output_type": "stream",
     "text": [
      "                HELLO     WORLD         \n",
      "                Hello     World         \n",
      "                hello     world         \n",
      "result: Hello World\n"
     ]
    }
   ],
   "source": [
    "text = '                hello     world         '\n",
    "print(text.upper())\n",
    "print(text.title())\n",
    "print(text.lower())\n",
    "# print(text.strip())\n",
    "\n",
    "result = ' '.join(text.split())\n",
    "print(f'result: {result.title()}') "
   ]
  },
  {
   "cell_type": "code",
   "execution_count": 49,
   "id": "4245e980",
   "metadata": {},
   "outputs": [
    {
     "name": "stdout",
     "output_type": "stream",
     "text": [
      "['cheddar', ' hushåll', ' port salut', ' präst']\n"
     ]
    }
   ],
   "source": [
    "ost = 'cheddar, hushåll, port salut, präst'\n",
    "ost.title()\n",
    "\n",
    "oster = ost.split(',')\n",
    "print(oster)"
   ]
  },
  {
   "cell_type": "markdown",
   "id": "1415f5da",
   "metadata": {},
   "source": [
    "## IF SATSER\n"
   ]
  },
  {
   "cell_type": "markdown",
   "id": "c8d6d7c1",
   "metadata": {},
   "source": [
    "#### Jämförelseoprationer\n",
    "- == Lika med\n",
    "- != Inte Lika med\n",
    "- \">\" Större än \n",
    "- \"<\" Mindre än \n",
    "- \">=\" Större eller Lika\n",
    "- \"<=\" Mindre eller Lika"
   ]
  },
  {
   "cell_type": "code",
   "execution_count": 52,
   "id": "b8f28a64",
   "metadata": {},
   "outputs": [
    {
     "name": "stdout",
     "output_type": "stream",
     "text": [
      "Du är tonåriing!\n"
     ]
    }
   ],
   "source": [
    "age = int(input('Hej och välkomen till mitt program. '\n",
    "'Var snäll och skriv din ålder: \\t'))\n",
    "\n",
    "if age < 13:\n",
    "    print('Du är ugn')\n",
    "elif age < 18:\n",
    "    print('Du är tonåriing!')\n",
    "elif age >= 18:\n",
    "    print('Du är vuxen!')"
   ]
  },
  {
   "cell_type": "code",
   "execution_count": 62,
   "id": "c6f1dc26",
   "metadata": {},
   "outputs": [
    {
     "name": "stdout",
     "output_type": "stream",
     "text": [
      "Du är pansionär!\n"
     ]
    }
   ],
   "source": [
    "\n",
    "age = int(input('Hej och välkomen till mitt program. '\n",
    "'Var snäll och skriv din ålder:\\n'))\n",
    "\n",
    "\n",
    "if age <= 0:\n",
    "    print('Var snäll och skriv i rätt format!')\n",
    "    \n",
    "elif age < 13:\n",
    "    print('Du är ugn')\n",
    "elif age < 18:\n",
    "    print('Du är tonåriing!')\n",
    "elif 18 <= age <= 66:\n",
    "    print('Du är vuxen!')\n",
    "else:\n",
    "    print('Du är pansionär!')\n",
    "\n"
   ]
  },
  {
   "cell_type": "code",
   "execution_count": 77,
   "id": "5faf522d",
   "metadata": {},
   "outputs": [
    {
     "name": "stdout",
     "output_type": "stream",
     "text": [
      "Start...\n",
      "Timer stopped at 9 seconds!\n"
     ]
    }
   ],
   "source": [
    "import time\n",
    "\n",
    "seconds = 0\n",
    "\n",
    "while True:\n",
    "    redo = input('Are you ready? (y/n) ')\n",
    "    if redo.lower() == 'y':\n",
    "        print('Start...')\n",
    "        while True:\n",
    "            print(f'Time: {seconds} seconds', end='\\r')  # \\r skriver över samma rad\n",
    "            # time.sleep(1)\n",
    "            seconds += 1\n",
    "            # Fråga användaren om hen vill gå in i break mode\n",
    "            if input(\"\\nType 'break' to stop timer: \").lower() == 'break':\n",
    "                print(f\"Timer stopped at {seconds} seconds!\")\n",
    "                break\n",
    "        break  # avsluta y-loopen efter break\n",
    "    elif redo.lower() == 'n':\n",
    "        print(\"Exiting program.\")\n",
    "        break\n"
   ]
  },
  {
   "cell_type": "code",
   "execution_count": 14,
   "id": "be2e982e",
   "metadata": {},
   "outputs": [
    {
     "name": "stdout",
     "output_type": "stream",
     "text": [
      "30.5\n",
      "30.0\n",
      "==================\n",
      "30.5\n",
      "30.0\n"
     ]
    }
   ],
   "source": [
    "import statistics as st\n",
    "import numpy as np\n",
    "# import pandas as pd\n",
    "\n",
    "numbers = [10, 20, 3, 40, 50, 60]\n",
    "print(st.mean(numbers))\n",
    "print(st.median(numbers))\n",
    "print('==================')\n",
    "print(np.mean(numbers))\n",
    "print(np.median(numbers))\n"
   ]
  },
  {
   "cell_type": "code",
   "execution_count": 17,
   "id": "a32b1aca",
   "metadata": {},
   "outputs": [
    {
     "name": "stdout",
     "output_type": "stream",
     "text": [
      "[['Joakim', 'Hans', 'Jeanette', 'Emil'], [38, 40, 37, 35]]\n"
     ]
    }
   ],
   "source": [
    "extra_numbers = [ 70, 80, 100]\n",
    "all_numbers = numbers + extra_numbers\n",
    "# print(all_numbers)\n",
    "\n",
    "names = ['Joakim', 'Hans', 'Jeanette', 'Emil']\n",
    "ages = [38, 40, 37, 35]\n",
    "\n",
    "matrix = [names, ages]\n",
    "print(matrix)"
   ]
  },
  {
   "cell_type": "code",
   "execution_count": 26,
   "id": "8078e362",
   "metadata": {},
   "outputs": [
    {
     "name": "stdout",
     "output_type": "stream",
     "text": [
      "Jeanette with age: 37\n",
      "37\n"
     ]
    }
   ],
   "source": [
    "print(matrix[0][2], 'with age:', matrix[1][2])\n",
    "print(matrix[1][2])\n"
   ]
  },
  {
   "cell_type": "markdown",
   "id": "2f5bf9ff",
   "metadata": {},
   "source": [
    "### for_loops"
   ]
  },
  {
   "cell_type": "code",
   "execution_count": null,
   "id": "e113b711",
   "metadata": {},
   "outputs": [
    {
     "name": "stdout",
     "output_type": "stream",
     "text": [
      "Spider-Man: Super strength, agility, spider-sense\n",
      "Wonder Woman: Super strength, flight, combat skills\n",
      "Batman: Genius intellect, martial arts, gadgets\n",
      "Iron Man: Genius intellect, powered armor suit\n",
      "Captain America: Enhanced strength, agility, shield mastery\n",
      "Black Panther: Enhanced strength, agility, advanced technology\n",
      "Hulk: Super strength, invulnerability, regeneration\n",
      "Thor: Godly strength, lightning manipulation, flight\n",
      "Flash: Super speed, time manipulation\n",
      "Superman: Super strength, flight, heat vision, invulnerability\n",
      "===========================================\n"
     ]
    }
   ],
   "source": [
    "superheroes = [\n",
    "    \"Spider-Man\",\n",
    "    \"Wonder Woman\",\n",
    "    \"Batman\",\n",
    "    \"Iron Man\",\n",
    "    \"Captain America\",\n",
    "    \"Black Panther\",\n",
    "    \"Hulk\"\n",
    "    \"Thor\",\n",
    "    \"Flash\",\n",
    "    \"Superman\"\n",
    "]\n",
    "\n",
    "powers = [\n",
    "    \"Super strength, agility, spider-sense\",\n",
    "    \"Super strength, flight, combat skills\",\n",
    "    \"Genius intellect, martial arts, gadgets\",\n",
    "    \"Genius intellect, powered armor suit\",\n",
    "    \"Enhanced strength, agility, shield mastery\",\n",
    "    \"Enhanced strength, agility, advanced technology\",\n",
    "    \"Super strength, invulnerability, regeneration\",\n",
    "    \"Godly strength, lightning manipulation, flight\",\n",
    "    \"Super speed, time manipulation\",\n",
    "    \"Super strength, flight, heat vision, invulnerability\"\n",
    "]\n",
    "\n",
    "for powers, superheroes in zip(powers, superheroes):\n",
    "    print(f'{superheroes}: {powers}')\n",
    "print('===========================================')\n"
   ]
  },
  {
   "cell_type": "code",
   "execution_count": 16,
   "id": "3292f48d",
   "metadata": {},
   "outputs": [
    {
     "name": "stdout",
     "output_type": "stream",
     "text": [
      "['he', 'saw', 'six', 'small', 'foxes']\n"
     ]
    }
   ],
   "source": [
    "# Lists\n",
    "\n",
    "b = ['saw', 'small', 'he', 'foxes', 'six']\n",
    "b.sort(key=len)\n",
    "print(b)"
   ]
  },
  {
   "cell_type": "code",
   "execution_count": 23,
   "id": "2a4476e1",
   "metadata": {},
   "outputs": [
    {
     "data": {
      "text/plain": [
       "{'a': 'some value', 'b': [1, 2, 3, 4], 7: 'an integer', 'c': 'company'}"
      ]
     },
     "execution_count": 23,
     "metadata": {},
     "output_type": "execute_result"
    }
   ],
   "source": [
    "# dicts\n",
    "\n",
    "d1 = {'a': 'some value', 'b': [1,2,3,4]}\n",
    "d1\n",
    "d1[7] = 'an integer' # add a new key and value in dict\n",
    "d1\n",
    "d1['b']\n",
    "d1['c'] = 'company'\n",
    "d1"
   ]
  },
  {
   "cell_type": "code",
   "execution_count": 25,
   "id": "560aece9",
   "metadata": {},
   "outputs": [
    {
     "data": {
      "text/plain": [
       "True"
      ]
     },
     "execution_count": 25,
     "metadata": {},
     "output_type": "execute_result"
    }
   ],
   "source": [
    "'b' in d1"
   ]
  },
  {
   "cell_type": "code",
   "execution_count": 26,
   "id": "3d42be01",
   "metadata": {},
   "outputs": [
    {
     "data": {
      "text/plain": [
       "{'a': 'some value',\n",
       " 'b': [1, 2, 3, 4],\n",
       " 7: 'an integer',\n",
       " 'c': 'company',\n",
       " 'dummy': 'another value'}"
      ]
     },
     "execution_count": 26,
     "metadata": {},
     "output_type": "execute_result"
    }
   ],
   "source": [
    "d1['dummy'] = 'another value'\n",
    "d1"
   ]
  },
  {
   "cell_type": "code",
   "execution_count": 30,
   "id": "79a0eb65",
   "metadata": {},
   "outputs": [
    {
     "data": {
      "text/plain": [
       "{'a': 'some value', 7: 'an integer', 'c': 'company', 'dummy': 'another value'}"
      ]
     },
     "execution_count": 30,
     "metadata": {},
     "output_type": "execute_result"
    }
   ],
   "source": [
    "# del d1['b']\n",
    "d1\n"
   ]
  },
  {
   "cell_type": "code",
   "execution_count": 38,
   "id": "0a1296b8",
   "metadata": {},
   "outputs": [
    {
     "name": "stdout",
     "output_type": "stream",
     "text": [
      "List of keys: ['a', 7, 'c', 'dummy']\n",
      "List of values: ['some value', 'an integer', 'company', 'another value']\n"
     ]
    }
   ],
   "source": [
    "print(f'List of keys: {list(d1.keys())}') # a list of keys in dic as list\n",
    "print(f'List of values: {list(d1.values())}')"
   ]
  },
  {
   "cell_type": "code",
   "execution_count": null,
   "id": "00eb5d9e",
   "metadata": {},
   "outputs": [
    {
     "name": "stdout",
     "output_type": "stream",
     "text": [
      "[('a', 'some value'), (7, 'an integer'), ('c', 'company'), ('dummy', 'another value')]\n"
     ]
    }
   ],
   "source": [
    "print(list(d1.items())) # a list of all items both keys and values "
   ]
  },
  {
   "cell_type": "code",
   "execution_count": 42,
   "id": "54298942",
   "metadata": {},
   "outputs": [
    {
     "name": "stdout",
     "output_type": "stream",
     "text": [
      "a: some value\n",
      "7: an integer\n",
      "c: company\n",
      "dummy: another value\n"
     ]
    }
   ],
   "source": [
    "for k, v in d1.items():\n",
    "    print(f'{k}: {v}')"
   ]
  },
  {
   "cell_type": "code",
   "execution_count": 44,
   "id": "05da7bcf",
   "metadata": {},
   "outputs": [
    {
     "data": {
      "text/plain": [
       "{'a': 'foo', 7: 12, 'c': 'company', 'dummy': 'another value'}"
      ]
     },
     "execution_count": 44,
     "metadata": {},
     "output_type": "execute_result"
    }
   ],
   "source": [
    "# update the value in dict\n",
    "\n",
    "d1.update({'a': 'foo', 7: 12})\n",
    "d1"
   ]
  },
  {
   "cell_type": "code",
   "execution_count": null,
   "id": "afe58d12",
   "metadata": {},
   "outputs": [],
   "source": []
  },
  {
   "cell_type": "code",
   "execution_count": null,
   "id": "4a13febe",
   "metadata": {},
   "outputs": [],
   "source": []
  },
  {
   "cell_type": "code",
   "execution_count": null,
   "id": "767cff28",
   "metadata": {},
   "outputs": [],
   "source": []
  },
  {
   "cell_type": "code",
   "execution_count": null,
   "id": "abe1a5f3",
   "metadata": {},
   "outputs": [],
   "source": []
  },
  {
   "cell_type": "code",
   "execution_count": null,
   "id": "01e6df0a",
   "metadata": {},
   "outputs": [],
   "source": []
  }
 ],
 "metadata": {
  "kernelspec": {
   "display_name": ".venv",
   "language": "python",
   "name": "python3"
  },
  "language_info": {
   "codemirror_mode": {
    "name": "ipython",
    "version": 3
   },
   "file_extension": ".py",
   "mimetype": "text/x-python",
   "name": "python",
   "nbconvert_exporter": "python",
   "pygments_lexer": "ipython3",
   "version": "3.13.7"
  }
 },
 "nbformat": 4,
 "nbformat_minor": 5
}
