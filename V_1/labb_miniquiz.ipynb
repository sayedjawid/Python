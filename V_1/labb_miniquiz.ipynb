{
 "cells": [
  {
   "cell_type": "markdown",
   "id": "38f558eb",
   "metadata": {},
   "source": [
    "### Ni ska bygga ett quizprogram som ställer frågor till användaren och räknar ut poängen.\n",
    "\n",
    "1. Frågor och svar:\n",
    "    - Skappa en lista med frågor\n",
    "    - skappa en lista med de rätta svaren.(här får ni välja om ni vill ha flersvarfrågor eller om användaren ska skriva ett text svar)\n",
    "    \n",
    "2. Loopa över frågorna:\n",
    "    - Använd en loop för att ställa varje fråga till användaren\n",
    "    - Låt användaren skriva in sitt svar med input()\n",
    "\n",
    "3. Kontrollera svaren:\n",
    "    - Jämför användarens svar med det rätta svaret\n",
    "    - Om det är rätt, öka poängen med 1.\n",
    "\n",
    "4. Visa resultat:\n",
    "    - När quizet är klart, skriv ut hur många poäng användaren fick.\n",
    "    - Lägg till en kommentar som är olika beroende på poäng, t.ex:\n",
    "        - 'Bra jobbat!'\n",
    "        - 'Försök igen!'\n",
    "\n",
    "\n",
    "Programmet ska ställa minst 5 frågor till användaren.\n",
    "Frågorna får ni komma på själva men det viktiga här är inte frågorna i sig.\n",
    "Exampel på frågor skulle kunna vara:\n",
    "    - Vilket år är det?\n",
    "    - Vad heter Sveriges huvudstad?\n",
    "    - Vad är  5 * 2?\n",
    "\n",
    "Den häruppgiften går lika bra att köra i en notebook som i en vanlig .py file, det väljer ni i gruppen.\n",
    "\n"
   ]
  },
  {
   "cell_type": "code",
   "execution_count": null,
   "id": "4ffbc69c",
   "metadata": {},
   "outputs": [
    {
     "name": "stdout",
     "output_type": "stream",
     "text": [
      "Vad heter huvudstaden i Sverige?\n",
      "Wrong answer: Enter\n",
      "Hur många ben har en spindel?\n",
      "Wrong answer: Escape\n",
      "Vilken planet är närmast solen?\n",
      "Wrong answer: ds\n",
      "Vem skapade Python-programmeringsspråket?\n",
      "Wrong answer: \n",
      "Vilket år startade andra världskriget?\n",
      "Wrong answer: \n",
      "You got 0 points of 5\n",
      "Vad heter huvudstaden i Sverige?\n",
      "Wrong answer: \n",
      "Hur många ben har en spindel?\n",
      "Wrong answer: \n",
      "Vilken planet är närmast solen?\n",
      "Wrong answer: \n",
      "Vem skapade Python-programmeringsspråket?\n",
      "Wrong answer: \n",
      "Vilket år startade andra världskriget?\n",
      "Wrong answer: \n",
      "You got 0 points of 5\n",
      "Vad heter huvudstaden i Sverige?\n"
     ]
    }
   ],
   "source": [
    "\n",
    "list_of_questions = [\n",
    "    \"Vad heter huvudstaden i Sverige?\",\n",
    "    \"Hur många ben har en spindel?\",\n",
    "    \"Vilken planet är närmast solen?\",\n",
    "    \"Vem skapade Python-programmeringsspråket?\",\n",
    "    \"Vilket år startade andra världskriget?\"\n",
    "]\n",
    "\n",
    "right_answers = [\n",
    "    \"Stockholm\",\n",
    "    \"8\",\n",
    "    \"Merkurius\",\n",
    "    \"Guido van Rossum\",\n",
    "    \"1939\"\n",
    "]\n",
    "\n",
    "amount_of_questions = len(list_of_questions)\n",
    "high_score = 0\n",
    "\n",
    "\n",
    "while True:\n",
    "    points = 0\n",
    "\n",
    "    for q in range(amount_of_questions):\n",
    "        print(list_of_questions[q])\n",
    "        answer = input('Answer here:\\t')\n",
    "        if answer.title() == right_answers[q]:\n",
    "            points += 1\n",
    "            print(f'Right answer: {answer}')\n",
    "        else:\n",
    "            print(f'Wrong answer: {answer}')\n",
    "    print(f'You got {points} points of {amount_of_questions}')"
   ]
  },
  {
   "cell_type": "code",
   "execution_count": null,
   "id": "d580be1c",
   "metadata": {},
   "outputs": [],
   "source": []
  },
  {
   "cell_type": "code",
   "execution_count": null,
   "id": "b52244cf",
   "metadata": {},
   "outputs": [],
   "source": []
  },
  {
   "cell_type": "code",
   "execution_count": null,
   "id": "1c717395",
   "metadata": {},
   "outputs": [],
   "source": []
  },
  {
   "cell_type": "code",
   "execution_count": null,
   "id": "aedcff9e",
   "metadata": {},
   "outputs": [],
   "source": []
  },
  {
   "cell_type": "code",
   "execution_count": null,
   "id": "5bd119d6",
   "metadata": {},
   "outputs": [],
   "source": []
  },
  {
   "cell_type": "code",
   "execution_count": null,
   "id": "45f8108b",
   "metadata": {},
   "outputs": [],
   "source": []
  },
  {
   "cell_type": "code",
   "execution_count": null,
   "id": "39bc3b47",
   "metadata": {},
   "outputs": [],
   "source": []
  }
 ],
 "metadata": {
  "kernelspec": {
   "display_name": ".venv",
   "language": "python",
   "name": "python3"
  },
  "language_info": {
   "codemirror_mode": {
    "name": "ipython",
    "version": 3
   },
   "file_extension": ".py",
   "mimetype": "text/x-python",
   "name": "python",
   "nbconvert_exporter": "python",
   "pygments_lexer": "ipython3",
   "version": "3.13.7"
  }
 },
 "nbformat": 4,
 "nbformat_minor": 5
}
