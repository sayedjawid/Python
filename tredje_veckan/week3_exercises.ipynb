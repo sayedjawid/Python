{
 "cells": [
  {
   "cell_type": "markdown",
   "id": "2050efe0",
   "metadata": {},
   "source": [
    "# Självstudieövningar – Vecka 3\n",
    "\n",
    "De här övningarna är till för att du ska repetera och befästa det vi har gått igenom under veckan samt introducera några nya begrepp på ett tryggt sätt.\n",
    "\n",
    "Det innebär att vissa av uppgifterna kan du behöva söka efter information själv hur du löser. Här kan du använda Google eller AI om du vill men Python-dokumentationen är din bästa vän när du lär dig.\n",
    "\n",
    "Länk: https://docs.python.org/3.13/\n",
    "\n",
    "Läs först igenom vad som ska göras i respektive uppgift och fyll sedan i kodblocket nedanför, eller gör uppgiften i en separat fil.\n",
    "\n",
    "**Detta lämnas inte in för rättning.** Arbeta i din egen takt, testa dig fram, använd dokumentationen när du kör fast och ta med eventuella frågor till nästa lektionstillfälle."
   ]
  },
  {
   "cell_type": "markdown",
   "id": "1d545641",
   "metadata": {},
   "source": [
    "## Block A"
   ]
  },
  {
   "cell_type": "markdown",
   "id": "79fd4e0d",
   "metadata": {},
   "source": [
    "### Uppgift 1 – Tuple-grunder\n",
    "Skapa en tuple `t = (3, 7, 11, 7)` och:\n",
    "- skriv ut första och sista elementet,\n",
    "- räkna hur många gånger `7` förekommer,\n",
    "- ta fram index för första `7` med `.index()`."
   ]
  },
  {
   "cell_type": "code",
   "execution_count": null,
   "id": "f88703f7",
   "metadata": {},
   "outputs": [],
   "source": []
  },
  {
   "cell_type": "markdown",
   "id": "8e2f9799",
   "metadata": {},
   "source": [
    "### Uppgift 2 – Unpacking & swap\n",
    "Givet `p = (\"Ada\", \"Lovelace\", 36)` plocka ut `first, last, age` via **unpacking** och skriv en mening med f-string.\n",
    "Byt sedan plats på `first` och `last` i **en rad** (tuple-swap) och skriv ut igen."
   ]
  },
  {
   "cell_type": "code",
   "execution_count": null,
   "id": "532b664e",
   "metadata": {},
   "outputs": [],
   "source": []
  },
  {
   "cell_type": "markdown",
   "id": "e7892f16",
   "metadata": {},
   "source": [
    "### Uppgift 3 – Oföränderlighet\n",
    "Förklara i en kommentar varför `t[0] = 99` ger fel. Visa hur du kan skapa **en ny** tuple där första värdet är ändrat."
   ]
  },
  {
   "cell_type": "code",
   "execution_count": null,
   "id": "03a74747",
   "metadata": {},
   "outputs": [],
   "source": []
  },
  {
   "cell_type": "markdown",
   "id": "ffb194a1",
   "metadata": {},
   "source": [
    "### Uppgift 4 – Konvertering\n",
    "Givet `nums_list = [2, 4, 6, 8]`:\n",
    "- gör om den till tuple,\n",
    "- lägg till talet `10` (genom att skapa en **ny** tuple),\n",
    "- gör om tillbaka till lista."
   ]
  },
  {
   "cell_type": "code",
   "execution_count": null,
   "id": "4e76cec5",
   "metadata": {},
   "outputs": [],
   "source": []
  },
  {
   "cell_type": "markdown",
   "id": "e928d47f",
   "metadata": {},
   "source": [
    "### Uppgift 5 – Felsökning (tuple)\n",
    "Kör och **rätta** så att det fungerar:"
   ]
  },
  {
   "cell_type": "code",
   "execution_count": null,
   "id": "d63ca48f",
   "metadata": {},
   "outputs": [],
   "source": [
    "data = (1, 2, 3)\n",
    "data.append(4)\n",
    "print(data)"
   ]
  },
  {
   "cell_type": "markdown",
   "id": "f4e8830e",
   "metadata": {},
   "source": [
    "### Uppgift 6 – Sensor-sammanställning\n",
    "Anta att du får mätningar som en lista av tuples:\n",
    "`measurements = [(\"2025-10-13 10:00\", 21.5), (\"2025-10-13 10:05\", 21.7), ...]`\n",
    "Skriv kod som:\n",
    "- räknar antalet mätningar,\n",
    "- tar fram min, max och medelvärde för temperaturen,\n",
    "- skriver ut tidsstämpeln för max-värdet."
   ]
  },
  {
   "cell_type": "code",
   "execution_count": null,
   "id": "56e2d8e3",
   "metadata": {},
   "outputs": [],
   "source": []
  },
  {
   "cell_type": "markdown",
   "id": "6e4ed96c",
   "metadata": {},
   "source": [
    "## Block B – Filer: läsa & skriva (text)"
   ]
  },
  {
   "cell_type": "markdown",
   "id": "58a45e68",
   "metadata": {},
   "source": [
    "> Använd **relativa sökvägar** och `with open(..., encoding=\"utf-8\") as f:`."
   ]
  },
  {
   "cell_type": "markdown",
   "id": "8001e4a3",
   "metadata": {},
   "source": [
    "### Uppgift 7 – Läs en fil\n",
    "Läs in en textfil (t.ex. `novell.txt`) och skriv ut:\n",
    "- antal rader,\n",
    "- totalt antal tecken,\n",
    "- antal icke-tomma rader (ignorera rader som bara är whitespace)."
   ]
  },
  {
   "cell_type": "code",
   "execution_count": null,
   "id": "be6169c0",
   "metadata": {},
   "outputs": [],
   "source": []
  },
  {
   "cell_type": "markdown",
   "id": "8507acfc",
   "metadata": {},
   "source": [
    "### Uppgift 8 – Filtrera och spara\n",
    "Läs en fil rad för rad och skriv **endast de rader** som **inte** är tomma till en ny fil `utan_tomrader.txt`. Bekräfta genom att läsa tillbaka och skriva ut antal rader."
   ]
  },
  {
   "cell_type": "code",
   "execution_count": null,
   "id": "8e4a6e2a",
   "metadata": {},
   "outputs": [],
   "source": []
  },
  {
   "cell_type": "markdown",
   "id": "c5bcab82",
   "metadata": {},
   "source": [
    "### Uppgift 9 – Append-logg\n",
    "Skapa/öppna en fil `logg.txt` i **append-läge** och lägg till en rad `Startad` och en rad `Klar` med valfri tidsstämpel (du kan hårdkoda)."
   ]
  },
  {
   "cell_type": "code",
   "execution_count": null,
   "id": "bff653bc",
   "metadata": {},
   "outputs": [],
   "source": []
  },
  {
   "cell_type": "markdown",
   "id": "4dc3c209",
   "metadata": {},
   "source": [
    "### Uppgift 10 – Felsökning (fil)"
   ]
  },
  {
   "cell_type": "code",
   "execution_count": null,
   "id": "646dfc93",
   "metadata": {},
   "outputs": [],
   "source": [
    "f = open(\"data.txt\", \"w\", encoding=\"utf-8\")\n",
    "text = f.read()\n",
    "print(text)\n",
    "\n",
    "# Mål: Läs innehåll på ett korrekt sätt."
   ]
  },
  {
   "cell_type": "markdown",
   "id": "2319dc62",
   "metadata": {},
   "source": [
    "### Uppgift 11 – Logg-parser\n",
    "Anta en fil `events.txt` där varje rad är t.ex. `INFO: Start`, `ERROR: Disk full`, `WARN: Low battery`.\n",
    "Skriv program som:\n",
    "- räknar hur många `INFO`, `WARN`, `ERROR`,\n",
    "- skriver en **sammanfattning** till `summary.txt`, t.ex.\n",
    "```\n",
    "INFO:  12\n",
    "WARN:   3\n",
    "ERROR:  1\n",
    "```"
   ]
  },
  {
   "cell_type": "code",
   "execution_count": null,
   "id": "33df2068",
   "metadata": {},
   "outputs": [],
   "source": []
  },
  {
   "cell_type": "markdown",
   "id": "b169650f",
   "metadata": {},
   "source": [
    "## Block C – CSV & JSON"
   ]
  },
  {
   "cell_type": "markdown",
   "id": "6aeada03",
   "metadata": {},
   "source": [
    "### Uppgift 12 – CSV: grundläsning\n",
    "Skapa en liten CSV-fil `people.csv` (3–5 rader) med kolumnerna `name,age`. Läs den med `csv.reader` och skriv ut varje rad snyggt formaterad."
   ]
  },
  {
   "cell_type": "code",
   "execution_count": null,
   "id": "d881ce50",
   "metadata": {},
   "outputs": [],
   "source": []
  },
  {
   "cell_type": "markdown",
   "id": "ca6dcf3d",
   "metadata": {},
   "source": [
    "### Uppgift 13 – CSV: kolumnmedel\n",
    "Läs `people.csv` med `csv.DictReader` och räkna fram **medelålder** (avrunda till 1 decimal). Skriv ut namnet på den **äldsta** personen."
   ]
  },
  {
   "cell_type": "code",
   "execution_count": null,
   "id": "8f7fdb85",
   "metadata": {},
   "outputs": [],
   "source": []
  },
  {
   "cell_type": "markdown",
   "id": "88783dce",
   "metadata": {},
   "source": [
    "### Uppgift 14 – CSV: filtrera och spara\n",
    "Skapa en ny CSV `adults.csv` med bara rader där `age >= 18`. Använd `csv.DictWriter`."
   ]
  },
  {
   "cell_type": "code",
   "execution_count": null,
   "id": "8e6c9e50",
   "metadata": {},
   "outputs": [],
   "source": []
  },
  {
   "cell_type": "markdown",
   "id": "ad11b7ca",
   "metadata": {},
   "source": [
    "### Uppgift 15 – JSON: spara & läsa\n",
    "Skapa en Python-struktur (lista/dict) med några personer och favoritfärger.\n",
    "- Spara till `colors.json` med `json.dump`.\n",
    "- Läs tillbaka med `json.load` och skriv ut alla namn som har färgen `\"blå\"`."
   ]
  },
  {
   "cell_type": "code",
   "execution_count": null,
   "id": "2f65711f",
   "metadata": {},
   "outputs": [],
   "source": []
  },
  {
   "cell_type": "markdown",
   "id": "9aaa6d53",
   "metadata": {},
   "source": [
    "### Uppgift 16 – Felsökning (JSON)\n",
    "Kör och **rätta**:"
   ]
  },
  {
   "cell_type": "code",
   "execution_count": null,
   "id": "101ee434",
   "metadata": {},
   "outputs": [],
   "source": [
    "import json\n",
    "with open(\"colors.json\", \"r\", encoding=\"utf-8\") as f:\n",
    "    data = json.loads(f)\n",
    "print(data)\n",
    "\n",
    "# Mål: Använd rätt funktion för filobjekt."
   ]
  },
  {
   "cell_type": "markdown",
   "id": "846c6908",
   "metadata": {},
   "source": [
    "### Uppgift 17 – Budget-sammanställning (CSV→JSON)\n",
    "Skapa en CSV `transactions.csv` med kolumner `date,category,amount` (positivt för intäkt, negativt för kostnad).\n",
    "Skriv kod som:\n",
    "- läser transaktionerna,\n",
    "- summerar **belopp per kategori** i en dictionary,\n",
    "- skriver ut en **lista** med `{ \"category\": \"...\", \"total\": ... }` sorterad fallande på `total`,\n",
    "- sparar listan till `budget_summary.json`."
   ]
  },
  {
   "cell_type": "code",
   "execution_count": null,
   "id": "22dab725",
   "metadata": {},
   "outputs": [],
   "source": []
  },
  {
   "cell_type": "markdown",
   "id": "3387051a",
   "metadata": {},
   "source": [
    "## Block D – OOP (Klasser, läsbarhet, inkapsling, sammansättning, arv)"
   ]
  },
  {
   "cell_type": "markdown",
   "id": "85b5e49a",
   "metadata": {},
   "source": [
    "### Uppgift 18 – Klass: Student\n",
    "Skapa en klass `Student` med `name` och `age`.\n",
    "- Implementera `__init__` och `__str__` (läsbar utskrift).\n",
    "- Skapa 2–3 objekt och skriv ut dem."
   ]
  },
  {
   "cell_type": "code",
   "execution_count": null,
   "id": "b728968f",
   "metadata": {},
   "outputs": [],
   "source": []
  },
  {
   "cell_type": "markdown",
   "id": "5ec6ac99",
   "metadata": {},
   "source": [
    "### Uppgift 19 – Metoder & enkel inkapsling\n",
    "Utöka `Student` med en **lista** `courses` som startar tom.\n",
    "- Metod `add_course(course_name)` lägger till en kurs,\n",
    "- Metod `count_courses()` returnerar antal.\n",
    "- Skydda internlistan genom att exponera en **kopierad** lista i metoden `get_courses()` (inte direkt attributet)."
   ]
  },
  {
   "cell_type": "code",
   "execution_count": null,
   "id": "bc916cde",
   "metadata": {},
   "outputs": [],
   "source": []
  },
  {
   "cell_type": "markdown",
   "id": "9211c9a5",
   "metadata": {},
   "source": [
    "### Uppgift 20 – Läsbarhet\n",
    "Lägg till `__repr__` i `Student` som visar ett tydligt “debug-format”. Kommentera kort när `__str__` vs `__repr__` syns."
   ]
  },
  {
   "cell_type": "code",
   "execution_count": null,
   "id": "ed011dc8",
   "metadata": {},
   "outputs": [],
   "source": []
  },
  {
   "cell_type": "markdown",
   "id": "d8521908",
   "metadata": {},
   "source": [
    "### Uppgift 21 – Sammansättning (Composition)\n",
    "Skapa en klass `Course` med `name` och en **lista av** `Student`-objekt.\n",
    "- Metod `enroll(student)` lägger till studenten,\n",
    "- Metod `top_n(n)` returnerar de första `n` studenterna baserat på namn (alfabetiskt).\n",
    "- Skriv ut en enkel kurslista."
   ]
  },
  {
   "cell_type": "code",
   "execution_count": null,
   "id": "79ac08e5",
   "metadata": {},
   "outputs": [],
   "source": []
  },
  {
   "cell_type": "markdown",
   "id": "e51348f3",
   "metadata": {},
   "source": [
    "### Uppgift 22 – Arv (Inheritance)\n",
    "Skapa en basklass `Shape` och underklasser som t.ex: `Rectangle(w,h)`, `Circle(r)` och `Triangle(base, height)`.\n",
    "- Skapa minst 4 underklasser.\n",
    "- Alla har en metod `area()` (för cirkel: `3.14159 * r * r`).\n",
    "- Skapa en lista med mixade objekt och skriv ut klassnamn och area för varje."
   ]
  },
  {
   "cell_type": "code",
   "execution_count": null,
   "id": "768e9a02",
   "metadata": {},
   "outputs": [],
   "source": []
  },
  {
   "cell_type": "markdown",
   "id": "11ea4566",
   "metadata": {},
   "source": [
    "### Uppgift 23 – Felsökning\n",
    "Kör och **rätta**:"
   ]
  },
  {
   "cell_type": "code",
   "execution_count": null,
   "id": "341d275c",
   "metadata": {},
   "outputs": [],
   "source": [
    "class Box:\n",
    "    def __init__(width, height):\n",
    "        self.width = width\n",
    "        self.height = height\n",
    "\n",
    "b = Box(3, 4)\n",
    "print(b.width, b.height)"
   ]
  },
  {
   "cell_type": "markdown",
   "id": "efd88159",
   "metadata": {},
   "source": [
    "### Uppgift 24 – Bibliotekssystem (OOP)\n",
    "Bygg ett litet bibliotekssystem:\n",
    "- Klass `Book(title, author)`\n",
    "- Klass `Member(name)` med metod `borrow(book)` och `return_book(book)`\n",
    "- Klass `Library` som **äger** (sammansättning) listor över `books` och `members`, och erbjuder metoder:\n",
    "  - `add_book`, `add_member`,\n",
    "  - `borrow_book(member, title)`,\n",
    "  - `return_book(member, title)`,\n",
    "  - enkel rapport: vilka böcker är utlånade och till vem.\n",
    "Håll allt i minnet (inga filer i denna uppgift)."
   ]
  },
  {
   "cell_type": "code",
   "execution_count": null,
   "id": "1a4d57f7",
   "metadata": {},
   "outputs": [],
   "source": []
  },
  {
   "cell_type": "markdown",
   "id": "a97d868b",
   "metadata": {},
   "source": [
    "## Block E – Större projekt"
   ]
  },
  {
   "cell_type": "markdown",
   "id": "7d98cc8b",
   "metadata": {},
   "source": [
    "### Projekt 1 – Kursregister (CSV + OOP)\n",
    "- Skapa en CSV `enrollments.csv` med kolumner `student,course,points`.\n",
    "- Läs in och bygg upp objekt: en `Course` per kursnamn, lägg till `Student`.\n",
    "- Skriv ut per kurs: antal studenter och medelpoäng (per kurs).\n",
    "- Spara en sammanfattning till `course_summary.json` (lista med `{course, n_students, avg_points}`)."
   ]
  },
  {
   "cell_type": "code",
   "execution_count": null,
   "id": "f10a7839",
   "metadata": {},
   "outputs": [],
   "source": []
  },
  {
   "cell_type": "markdown",
   "id": "b26058fa",
   "metadata": {},
   "source": [
    "### Projekt 2 – Ordfrekvens-pipeline (fil → dict → JSON)\n",
    "- Läs en textfil, normalisera (små bokstäver, ta bort `, . ! ?`), räkna ord i en dictionary.\n",
    "- Skriv ut **topp 10** mest frekventa orden.\n",
    "- Spara hela frekvens-dictionaryn till `word_freq.json`.\n",
    "- (Valfritt) Läs tillbaka JSON och skriv ut ord som förekommer **exakt** `N` gånger (från input)."
   ]
  },
  {
   "cell_type": "code",
   "execution_count": null,
   "id": "65907d17",
   "metadata": {},
   "outputs": [],
   "source": []
  }
 ],
 "metadata": {
  "kernelspec": {
   "display_name": "Python 3",
   "language": "python",
   "name": "python3"
  }
 },
 "nbformat": 4,
 "nbformat_minor": 5
}
