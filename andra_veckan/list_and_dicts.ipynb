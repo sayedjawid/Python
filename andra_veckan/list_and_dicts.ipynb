{
 "cells": [
  {
   "cell_type": "markdown",
   "id": "5c261686",
   "metadata": {},
   "source": []
  },
  {
   "cell_type": "code",
   "execution_count": null,
   "id": "43b76e5c",
   "metadata": {},
   "outputs": [],
   "source": [
    "magicians = ['alice', 'david', 'carolina']\n",
    "\n",
    "for magician in magicians:\n",
    "    print(f'{magician.title()}, that was a great trick!')\n",
    "    print(f\"I can't wait to see your next trick, {magician.title()}.\\n\")\n",
    "\n",
    "print('Thank you everyone. That was a great magic show!')"
   ]
  },
  {
   "cell_type": "code",
   "execution_count": null,
   "id": "f3a0a260",
   "metadata": {},
   "outputs": [],
   "source": [
    "numbers = list(range(1, 6))\n",
    "print(numbers)"
   ]
  },
  {
   "cell_type": "code",
   "execution_count": 1,
   "id": "f127ff21",
   "metadata": {},
   "outputs": [
    {
     "name": "stdout",
     "output_type": "stream",
     "text": [
      "[1, 4, 9, 16, 25, 36, 49, 64, 81, 100]\n"
     ]
    }
   ],
   "source": [
    "squares = []\n",
    "for value in range(1, 11):\n",
    "    square = value ** 2\n",
    "    squares.append(square)\n",
    "print(squares)"
   ]
  },
  {
   "cell_type": "code",
   "execution_count": 1,
   "id": "356afba1",
   "metadata": {},
   "outputs": [
    {
     "name": "stdout",
     "output_type": "stream",
     "text": [
      "[1, 4, 9, 16, 25, 36, 49, 64, 81, 100]\n"
     ]
    }
   ],
   "source": [
    "squares = []\n",
    "for i in range(1,11):\n",
    "    i = i ** 2\n",
    "    squares.append(i)\n",
    "print(squares)"
   ]
  },
  {
   "cell_type": "code",
   "execution_count": 2,
   "id": "16922153",
   "metadata": {},
   "outputs": [
    {
     "name": "stdout",
     "output_type": "stream",
     "text": [
      "[4, 16, 36, 64, 100]\n"
     ]
    }
   ],
   "source": [
    "squares = [value ** 2 for value in range(1, 11) if value % 2 == 0]\n",
    "print(squares)"
   ]
  },
  {
   "cell_type": "code",
   "execution_count": 3,
   "id": "d1306a42",
   "metadata": {},
   "outputs": [
    {
     "name": "stdout",
     "output_type": "stream",
     "text": [
      "1 2 3 4 5 6 7 8 9 10 11 12 13 14 15 16 17 18 19 20 "
     ]
    }
   ],
   "source": [
    "# Counting to Twenty: Use a for loop \n",
    "# to print the numbers from 1 to 20, inclusive.\n",
    "\n",
    "\n",
    "\n",
    "\n",
    "for number in range(1, 21):\n",
    "    print(number, end=\" \")"
   ]
  },
  {
   "cell_type": "code",
   "execution_count": 4,
   "id": "28cde399",
   "metadata": {},
   "outputs": [
    {
     "name": "stdout",
     "output_type": "stream",
     "text": [
      "[1, 4, 9, 16, 25, 36, 49, 64, 81, 100]\n"
     ]
    }
   ],
   "source": [
    "squares = [value ** 2 for value in range(1, 11)]\n",
    "print(squares)"
   ]
  },
  {
   "cell_type": "code",
   "execution_count": 5,
   "id": "0a3c0f5a",
   "metadata": {},
   "outputs": [
    {
     "name": "stdout",
     "output_type": "stream",
     "text": [
      "[1, 2, 3, 4, 5, 6, 7, 8, 9, 10, 11, 12, 13, 14, 15, 16, 17, 18, 19, 20]\n"
     ]
    }
   ],
   "source": [
    "value = [i for i in range(1,21)]\n",
    "print(value)"
   ]
  },
  {
   "cell_type": "markdown",
   "id": "6bc23851",
   "metadata": {},
   "source": [
    "##### One Million: Make a list of the numbers from one to one million, and then use a for loop to print the numbers. (If the output is taking too long, stop it by pressing ctrl-C or by closing the output window.)"
   ]
  },
  {
   "cell_type": "code",
   "execution_count": 3,
   "id": "77baeb07",
   "metadata": {},
   "outputs": [
    {
     "name": "stdout",
     "output_type": "stream",
     "text": [
      "First 10 values: [1, 2, 3, 4, 5, 6, 7, 8, 9, 10]\n",
      "Last 10 values: [999991, 999992, 999993, 999994, 999995, 999996, 999997, 999998, 999999, 1000000]\n",
      "Total number: 1000000\n"
     ]
    }
   ],
   "source": [
    "one_million = [i for i in range(1, 1_000_001)]\n",
    "print(f'First 10 values: {one_million[:10]}')\n",
    "print(f'Last 10 values: {one_million[-10:]}')\n",
    "print(f'Total number: {len(one_million)}')"
   ]
  },
  {
   "cell_type": "markdown",
   "id": "ba8285d9",
   "metadata": {},
   "source": [
    "Summing a Million: Make a list of the numbers from one to one million, and then use min() and max() to make sure your list actually starts at one and ends at one million. Also, use the sum() function to see how quickly Python can add a million numbers."
   ]
  },
  {
   "cell_type": "code",
   "execution_count": 5,
   "id": "2cd6145d",
   "metadata": {},
   "outputs": [
    {
     "name": "stdout",
     "output_type": "stream",
     "text": [
      "Min value in this list is: 1\n",
      "Max value in this list is: 1000000\n",
      "The sum of this list is: 500000500000\n",
      "Calculation time: 0.07120 seconds\n"
     ]
    }
   ],
   "source": [
    "import time\n",
    "\n",
    "start = time.time()\n",
    "\n",
    "numbers = [i for i in range(1, 1_000_001)]\n",
    "total = sum(numbers)\n",
    "\n",
    "end = time.time()\n",
    "\n",
    "print(f'Min value in this list is: {min(numbers)}')\n",
    "print(f'Max value in this list is: {max(numbers)}')\n",
    "print(f'The sum of this list is: {sum(numbers)}')\n",
    "print(f'Calculation time: {end - start:.5f} seconds')"
   ]
  },
  {
   "cell_type": "markdown",
   "id": "e5568f64",
   "metadata": {},
   "source": [
    "Odd Numbers: Use the third argument of the range() function to make a list of the odd numbers from 1 to 20. Use a for loop to print each number.\n"
   ]
  },
  {
   "cell_type": "code",
   "execution_count": 6,
   "id": "da053a4b",
   "metadata": {},
   "outputs": [
    {
     "name": "stdout",
     "output_type": "stream",
     "text": [
      "These are odd numbers: [1, 3, 5, 7, 9, 11, 13, 15, 17, 19]\n"
     ]
    }
   ],
   "source": [
    "\n",
    "numbers = [num for num in range(1, 21) if num % 2 != 0]\n",
    "print(f'These are odd numbers: {numbers}')"
   ]
  },
  {
   "cell_type": "markdown",
   "id": "63add2f8",
   "metadata": {},
   "source": [
    " \n",
    "Threes: Make a list of the multiples of 3 from 3 to 30. Use a for loop to \n",
    "print the numbers in your list.\n",
    "\n",
    "Du ska skapa en lista som innehåller alla tal som är delbara med 3.\n",
    "Listan börjar på 3 och slutar på 30.\n",
    "Exempel på vilka tal som ska vara med: 3, 6, 9, …, 30."
   ]
  },
  {
   "cell_type": "code",
   "execution_count": 7,
   "id": "1a104592",
   "metadata": {},
   "outputs": [
    {
     "name": "stdout",
     "output_type": "stream",
     "text": [
      "Threes list: [3, 6, 9, 12, 15, 18, 21, 24, 27, 30]\n"
     ]
    }
   ],
   "source": [
    "numbers = [num for num in range(3, 31) if num % 3 == 0]\n",
    "print(f'Threes list: {numbers}')"
   ]
  },
  {
   "cell_type": "code",
   "execution_count": 12,
   "id": "679104f2",
   "metadata": {},
   "outputs": [
    {
     "name": "stdout",
     "output_type": "stream",
     "text": [
      "Threes list: [3, 6, 9, 12, 15, 18, 21, 24, 27, 30]\n"
     ]
    }
   ],
   "source": [
    "# Vanligt for loop, ganska mycket kode. \n",
    "numbers = []\n",
    "for num in range(3, 31):\n",
    "    if num % 3 == 0:\n",
    "        numbers.append(num)\n",
    "print(f'Threes list: {numbers}')\n",
    "\n"
   ]
  },
  {
   "cell_type": "markdown",
   "id": "ce26f5f1",
   "metadata": {},
   "source": [
    "Cubes: A number raised to the third power is called a cube. For example, the cube of 2 is written as 2**3 in Python. Make a list of the first 10 cubes (that is, the cube of each integer from 1 through 10), and use a for loop to print out the value of each cube.\n"
   ]
  },
  {
   "cell_type": "code",
   "execution_count": 10,
   "id": "919d94fa",
   "metadata": {},
   "outputs": [
    {
     "name": "stdout",
     "output_type": "stream",
     "text": [
      "The Cube pwer to 3: [1, 8, 27, 64, 125, 216, 343, 512, 729, 1000]\n"
     ]
    }
   ],
   "source": [
    "cubes = [num ** 3 for num in range(1, 11)]\n",
    "print(f'The Cube pwer to 3: {cubes}')"
   ]
  },
  {
   "cell_type": "markdown",
   "id": "74be47b0",
   "metadata": {},
   "source": [
    " Cube Comprehension: Use a list comprehension to generate a list of the first 10 cubes\n",
    " "
   ]
  },
  {
   "cell_type": "code",
   "execution_count": 11,
   "id": "5c922002",
   "metadata": {},
   "outputs": [
    {
     "name": "stdout",
     "output_type": "stream",
     "text": [
      "The Cube pwer to 3: [1, 8, 27, 64, 125, 216, 343, 512, 729, 1000]\n"
     ]
    }
   ],
   "source": [
    "cubes = [num ** 3 for num in range(1, 11) ]\n",
    "print(f'The Cube pwer to 3: {cubes}')"
   ]
  },
  {
   "cell_type": "code",
   "execution_count": 12,
   "id": "c2ba69fb",
   "metadata": {},
   "outputs": [
    {
     "name": "stdout",
     "output_type": "stream",
     "text": [
      "[2, 4, 6, 8, 10]\n"
     ]
    }
   ],
   "source": [
    "my_list = [num for num in range(1, 11) if num % 2 == 0]\n",
    "print(my_list)"
   ]
  },
  {
   "cell_type": "code",
   "execution_count": null,
   "id": "2abcdc61",
   "metadata": {},
   "outputs": [],
   "source": []
  },
  {
   "cell_type": "code",
   "execution_count": null,
   "id": "a40022cd",
   "metadata": {},
   "outputs": [],
   "source": []
  }
 ],
 "metadata": {
  "kernelspec": {
   "display_name": ".venv",
   "language": "python",
   "name": "python3"
  },
  "language_info": {
   "codemirror_mode": {
    "name": "ipython",
    "version": 3
   },
   "file_extension": ".py",
   "mimetype": "text/x-python",
   "name": "python",
   "nbconvert_exporter": "python",
   "pygments_lexer": "ipython3",
   "version": "3.13.7"
  }
 },
 "nbformat": 4,
 "nbformat_minor": 5
}
