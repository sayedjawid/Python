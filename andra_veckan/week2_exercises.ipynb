{
 "cells": [
  {
   "cell_type": "markdown",
   "id": "787920d5",
   "metadata": {},
   "source": [
    "# Självstudieövningar - Vecka 1\n",
    "\n",
    "De här övningarna är till för att du ska repetera och befästa det vi har gått igenom under veckan samt introducera några nya begrepp på ett tryggt sätt.\n",
    "\n",
    "Det innebär att vissa av uppgifterna kan du behöva söka efter information själv hur du löser. Här kan du använda Google eller AI om du vill men Python-dokumentationen är din bästa vän när du lär dig.\n",
    "\n",
    "Länk: https://docs.python.org/3.13/\n",
    "\n",
    "Läs först igenom vad som ska göras i respektive uppgift och fyll sedan i kodblocket nedanför, eller gör uppgiften i en separat fil.\n",
    "\n",
    "**Detta lämnas inte in för rättning.** Arbeta i din egen takt, testa dig fram, använd dokumentationen när du kör fast och ta med eventuella frågor till nästa lektionstillfälle."
   ]
  },
  {
   "cell_type": "markdown",
   "id": "28510678",
   "metadata": {},
   "source": [
    "## Block A"
   ]
  },
  {
   "cell_type": "markdown",
   "id": "7deb3b10",
   "metadata": {},
   "source": [
    "### Uppgift 1 – Talserie\n",
    "Skriv ut talen 1–100 men hoppa över alla tal som är delbara med 4."
   ]
  },
  {
   "cell_type": "code",
   "execution_count": 1,
   "id": "c1038a48",
   "metadata": {},
   "outputs": [
    {
     "name": "stdout",
     "output_type": "stream",
     "text": [
      "The number which is divided by 4: [4, 8, 12, 16, 20, 24, 28, 32, 36, 40, 44, 48, 52, 56, 60, 64, 68, 72, 76, 80, 84, 88, 92, 96, 100]\n"
     ]
    }
   ],
   "source": [
    "divisible_by_four = [num for num in range(1, 101) if num % 4 == 0]\n",
    "print(f'The number which is divided by 4: {divisible_by_four}')"
   ]
  },
  {
   "cell_type": "markdown",
   "id": "56f6a91f",
   "metadata": {},
   "source": [
    "### Uppgift 2 – Strängmanipulation\n",
    "Läs in en mening och skriv ut den på tre sätt:\n",
    "- utan vokaler\n",
    "- utan konsonanter\n",
    "- med orden i omvänd ordning"
   ]
  },
  {
   "cell_type": "code",
   "execution_count": 14,
   "id": "c2f81e88",
   "metadata": {},
   "outputs": [
    {
     "name": "stdout",
     "output_type": "stream",
     "text": [
      "Din text utan vokaler blir:\n",
      "hj ll\n",
      "Din text med konsonanter blir:\n",
      "e aa\n"
     ]
    }
   ],
   "source": [
    "vokaler = ['a', 'e', 'i', 'o', 'u', 'y', 'å', 'ä', 'ö']\n",
    "# konsonanter = [\"b\", \"c\", \"d\", \"f\", \"g\", \"h\", \"j\", \"k\", \"l\", \"m\", \"n\", \"p\", \"q\", \"r\", \"s\", \"t\", \"v\", \"w\", \"x\", \"z\"]\n",
    "\n",
    "mening = input('Var snäll och skriv något text här:\\n').lower()\n",
    "bokstaver_utan_vokaler = []\n",
    "for bokstav in mening:\n",
    "    if bokstav not in vokaler:\n",
    "        bokstaver_utan_vokaler.append(bokstav)\n",
    "\n",
    "\n",
    "print(f\"Din text utan vokaler blir:\\n{''.join(bokstaver_utan_vokaler)}\")\n",
    "\n",
    "\n",
    "konsonanter = [\"b\", \"c\", \"d\", \"f\", \"g\", \"h\", \"j\", \"k\", \"l\", \"m\", \"n\", \"p\", \"q\", \"r\", \"s\", \"t\", \"v\", \"w\", \"x\", \"z\"]\n",
    "\n",
    "mening = input('Var snäll och skriv något text här:\\n').lower()\n",
    "bokstaver_med_konsonanter = []\n",
    "for bokstav in mening:\n",
    "    if bokstav not in konsonanter:\n",
    "        bokstaver_med_konsonanter.append(bokstav)\n",
    "\n",
    "\n",
    "print(f\"Din text med konsonanter blir:\\n{''.join(bokstaver_med_konsonanter)}\")\n"
   ]
  },
  {
   "cell_type": "markdown",
   "id": "7d8b0214",
   "metadata": {},
   "source": [
    "### Uppgift 3 – Lista med tal\n",
    "Låt användaren mata in en lista med tal (separerade med kommatecken, t.ex. `1,4,7,3`).\n",
    "Programmet ska sedan:\n",
    "- räkna ut summan\n",
    "- hitta minsta och största talet\n",
    "- räkna ut medelvärdet\n",
    "(Använd loopar, inte `min`, `max`, `sum`)."
   ]
  },
  {
   "cell_type": "code",
   "execution_count": 7,
   "id": "65d175df",
   "metadata": {},
   "outputs": [
    {
     "name": "stdout",
     "output_type": "stream",
     "text": [
      "Summan av lista: 6\n"
     ]
    }
   ],
   "source": [
    "# Be användaren mata in tal separerade med kommatecken\n",
    "input_str = input(\"Mata in en lista med tal, separerade med kommatecken (t.ex. 1,4,7,3): \")\n",
    "tal_list = input_str.split(',')\n",
    "summan = 0\n",
    "for num in tal_list:\n",
    "    summan += int(num)\n",
    "print(f'Summan av lista: {summan}')"
   ]
  },
  {
   "cell_type": "code",
   "execution_count": 24,
   "id": "49a853ad",
   "metadata": {},
   "outputs": [
    {
     "name": "stdout",
     "output_type": "stream",
     "text": [
      "Summan av denna list: 15\n",
      "Minsta värdet i listan: 1\n",
      "Medelvärdet av listan: 3.0\n",
      "Din lista med tal: [1, 2, 3, 4, 5]\n"
     ]
    }
   ],
   "source": [
    "# Be användaren mata in tal separerade med kommatecken\n",
    "input_str = input(\"Mata in en lista med tal, separerade med kommatecken (t.ex. 1,4,7,3): \")\n",
    "\n",
    "# Dela strängen vid kommatecken och konvertera varje del till ett heltal\n",
    "tal_list = [int(x.strip()) for x in input_str.split(',')]\n",
    "\n",
    "print(f'Summan av denna list: {sum(tal_list)}')\n",
    "print(f'Minsta värdet i listan: {min(tal_list)}')\n",
    "medelvärdet = sum(tal_list) / len(tal_list)\n",
    "print(f'Medelvärdet av listan: {medelvärdet}')\n",
    "\n",
    "# Visa resultatet\n",
    "print(\"Din lista med tal:\", tal_list)\n",
    "\n"
   ]
  },
  {
   "cell_type": "markdown",
   "id": "14e64976",
   "metadata": {},
   "source": [
    "### Uppgift 4 – Felsökning\n",
    "Koden nedan ska summera en lista men kraschar med `TypeError`."
   ]
  },
  {
   "cell_type": "code",
   "execution_count": null,
   "id": "1c3d0543",
   "metadata": {},
   "outputs": [],
   "source": [
    "nums = \"1234\"\n",
    "print(sum(nums))"
   ]
  },
  {
   "cell_type": "markdown",
   "id": "dedbd135",
   "metadata": {},
   "source": [
    "## Block B – Funktioner"
   ]
  },
  {
   "cell_type": "markdown",
   "id": "4352aa92",
   "metadata": {},
   "source": [
    "### Uppgift 5 – Primtal\n",
    "Skriv en funktion `is_prime(n)` som returnerar `True` om `n` är ett primtal, annars `False`."
   ]
  },
  {
   "cell_type": "code",
   "execution_count": null,
   "id": "c21ea28b",
   "metadata": {},
   "outputs": [],
   "source": []
  },
  {
   "cell_type": "markdown",
   "id": "65ab0020",
   "metadata": {},
   "source": [
    "### Uppgift 6 – Vokaler\n",
    "Skriv en funktion `count_vowels(s)` som returnerar antalet vokaler i en sträng."
   ]
  },
  {
   "cell_type": "code",
   "execution_count": null,
   "id": "0e12bab5",
   "metadata": {},
   "outputs": [],
   "source": []
  },
  {
   "cell_type": "markdown",
   "id": "b0fd6ddc",
   "metadata": {},
   "source": [
    "### Uppgift 7 – FizzBuzz som funktion\n",
    "Skriv om din gamla FizzBuzz-kod från vecka 1 till en funktion `fizzbuzz(n)` som returnerar en lista med resultaten."
   ]
  },
  {
   "cell_type": "code",
   "execution_count": null,
   "id": "4ed3c0d9",
   "metadata": {},
   "outputs": [],
   "source": []
  },
  {
   "cell_type": "markdown",
   "id": "23032f51",
   "metadata": {},
   "source": [
    "### Uppgift 8 – Miniräknare\n",
    "Skriv ett program där varje räknesätt är en funktion: `add(a,b)`, `sub(a,b)`, `mul(a,b)`, `div(a,b)`.\n",
    "Programmet ska visa en meny där användaren väljer operation och matar in två tal."
   ]
  },
  {
   "cell_type": "code",
   "execution_count": null,
   "id": "405a2038",
   "metadata": {},
   "outputs": [],
   "source": []
  },
  {
   "cell_type": "markdown",
   "id": "1577ba01",
   "metadata": {},
   "source": [
    "### Uppgift 9 – Felsökning\n",
    "Koden nedan ska addera två tal men ger `None`. Rätta till det."
   ]
  },
  {
   "cell_type": "code",
   "execution_count": null,
   "id": "bf695f15",
   "metadata": {},
   "outputs": [],
   "source": [
    "def add(a, b):\n",
    "    c = a + b\n",
    "\n",
    "resultat = add(2, 3)\n",
    "print(resultat)"
   ]
  },
  {
   "cell_type": "markdown",
   "id": "1d6d138e",
   "metadata": {},
   "source": [
    "## Block C – Dictionaries"
   ]
  },
  {
   "cell_type": "markdown",
   "id": "f2bc75a2",
   "metadata": {},
   "source": [
    "### Uppgift 10 – Åldrar\n",
    "Skapa en dictionary med tre personer och deras ålder. Lägg till en fjärde. Fråga användaren om ett namn och slå upp åldern. Om personen inte finns, skriv \"Ej hittad\"."
   ]
  },
  {
   "cell_type": "code",
   "execution_count": null,
   "id": "de26df35",
   "metadata": {},
   "outputs": [],
   "source": []
  },
  {
   "cell_type": "markdown",
   "id": "f1ebe1a7",
   "metadata": {},
   "source": [
    "### Uppgift 11 – Ordräknare\n",
    "Be användaren skriva en mening. Räkna hur många gånger varje ord förekommer och spara i en dictionary."
   ]
  },
  {
   "cell_type": "code",
   "execution_count": null,
   "id": "6950a31b",
   "metadata": {},
   "outputs": [],
   "source": []
  },
  {
   "cell_type": "markdown",
   "id": "d506caa0",
   "metadata": {},
   "source": [
    "### Uppgift 12 – Telefonbok\n",
    "Skriv ett menyprogram där användaren kan:\n",
    "- lägga till en kontakt (namn + nummer)\n",
    "- söka efter ett namn\n",
    "- visa alla kontakter\n",
    "- ta bort en kontakt\n",
    "- avsluta programmet\n",
    "\n",
    "Kontakterna sparas i en dictionary `{namn: nummer}`."
   ]
  },
  {
   "cell_type": "code",
   "execution_count": null,
   "id": "028e1446",
   "metadata": {},
   "outputs": [],
   "source": []
  },
  {
   "cell_type": "markdown",
   "id": "e6d49f40",
   "metadata": {},
   "source": [
    "### Uppgift 13 – Felsökning\n",
    "Koden nedan försöker slå upp en nyckel som inte finns och kraschar (`KeyError`). Rätta den så att programmet hanterar fallet."
   ]
  },
  {
   "cell_type": "code",
   "execution_count": null,
   "id": "9ee27849",
   "metadata": {},
   "outputs": [],
   "source": [
    "ages = {\"Ada\": 30, \"Bob\": 25}\n",
    "print(\"Charlies ålder är:\", ages[\"Charlie\"])"
   ]
  },
  {
   "cell_type": "markdown",
   "id": "d93b4a46",
   "metadata": {},
   "source": [
    "## Block D – Moduler & reproducera körning"
   ]
  },
  {
   "cell_type": "markdown",
   "id": "47e1e67f",
   "metadata": {},
   "source": [
    "### Uppgift 14 – Egna moduler\n",
    "Skapa en fil `utils.py` och lägg i funktionerna `is_even(n)` och `sum_list(lst)`. Importera modulen i din notebook och använd funktionerna."
   ]
  },
  {
   "cell_type": "code",
   "execution_count": null,
   "id": "3daf18d5",
   "metadata": {},
   "outputs": [],
   "source": []
  },
  {
   "cell_type": "markdown",
   "id": "13198f2d",
   "metadata": {},
   "source": [
    "### Uppgift 15 – Reproducerbar slump\n",
    "Skriv ett program som genererar 5 slumpmässiga tal mellan 1–100. Använd `random.seed(42)` så att samma tal genereras varje gång."
   ]
  },
  {
   "cell_type": "code",
   "execution_count": null,
   "id": "2bd1456b",
   "metadata": {},
   "outputs": [],
   "source": []
  },
  {
   "cell_type": "markdown",
   "id": "434b57c5",
   "metadata": {},
   "source": [
    "### Uppgift 16 – Paket och flera filer\n",
    "Bygg ett litet paket i en mapp som heter `calc_pkg/` och använd det från en huvudfil.\n",
    "\n",
    "#### Struktur:\n",
    "* calc_pkg/\n",
    "    * \\__init__.py\n",
    "    * ops.py\n",
    "    * formatting.py\n",
    "* main.py\n",
    "\n",
    "#### Krav:\n",
    "* `ops.py` ska innehålla funktionerna `add(a, b)`, `sub(a, b)`, `mul(a, b)`, `div(a, b)` (hantera division med noll).\n",
    "* `formatting.py` ska innehålla en funktion `pretty(op, a, b, result)` som returnerar en sträng, t.ex. `\"3 * 7 = 21\"` (op = +, -, *, / eller //).\n",
    "* main.py ska:\n",
    "    * importera från paketet (ex: `from calc_pkg import add, sub, mul, div, pretty`),\n",
    "    * visa en meny där användaren väljer räknesätt och matar två tal,\n",
    "    * skriva ut resultatet med `pretty(...)`.\n",
    "\n",
    "#### Tips:\n",
    "* Kör `main.py` från samma nivå som mappen `calc_pkg/`.\n",
    "* Om importen strular: kontrollera fil-/mappnamn och att `__init__.py` finns."
   ]
  },
  {
   "cell_type": "code",
   "execution_count": null,
   "id": "13f18eb9",
   "metadata": {},
   "outputs": [],
   "source": []
  },
  {
   "cell_type": "markdown",
   "id": "bc3245d2",
   "metadata": {},
   "source": [
    "## Block E – Större projekt"
   ]
  },
  {
   "cell_type": "markdown",
   "id": "8f95011b",
   "metadata": {},
   "source": [
    "### Projekt 1 – Textanalysator\n",
    "Be användaren skriva in en längre text. Programmet ska analysera:\n",
    "- antal ord\n",
    "- antal unika ord\n",
    "- antal vokaler\n",
    "- längsta ordet\n",
    "Resultatet sparas i en dictionary och skrivs ut."
   ]
  },
  {
   "cell_type": "code",
   "execution_count": null,
   "id": "febec7cb",
   "metadata": {},
   "outputs": [],
   "source": []
  },
  {
   "cell_type": "markdown",
   "id": "d93820ce",
   "metadata": {},
   "source": [
    "### Projekt 2 – Sten-Sax-Påse: Turnering\n",
    "Skapa ett program där man kan köra en turnering **Sten-Sax-Påse** mot datorn.\n",
    "\n",
    "#### Krav:\n",
    "* Representera valen som strängar: `\"sten\"`, `\"sax\"`, `\"påse\"`.\n",
    "* Skriv en funktion `winner(p1, p2)` som returnerar `\"p1\"`, `\"p2\"` eller `\"oavgjort\"` enligt reglerna:\n",
    "    * sten slår sax, sax slår påse, påse slår sten.\n",
    "* Låt användaren spela flera rundor mot datorn tills man väljer att avsluta, eller gör färdiga \"Bäst av 3/5/7\"-lägen.\n",
    "* Visa enkel poängställning med en dictionary, t.ex. {\"spelare\": 0, \"dator\": 0, \"oavgjort\": 0}.\n",
    "\n",
    "#### Tips:\n",
    "* Använd en dict för att definiera vilka drag som slår vilka, t.ex. `beats = {\"sten\": \"sax\", \"sax\": \"påse\", \"påse\": \"sten\"}`.\n",
    "* Håll all input och utskrift i huvudflödet; låt funktionsdelarna vara “rena” och bara räkna ut svar."
   ]
  },
  {
   "cell_type": "code",
   "execution_count": null,
   "id": "6b98b10c",
   "metadata": {},
   "outputs": [],
   "source": []
  },
  {
   "cell_type": "markdown",
   "id": "bd13ac9a",
   "metadata": {},
   "source": [
    "### Projekt 3 – Hangman (ordgissning)\n",
    "Programmet väljer ett ord. Användaren gissar bokstäver tills ordet är löst eller försöken tar slut. Visa progress, t.ex. `py_h_n`."
   ]
  },
  {
   "cell_type": "code",
   "execution_count": null,
   "id": "1bd90da8",
   "metadata": {},
   "outputs": [],
   "source": []
  }
 ],
 "metadata": {
  "kernelspec": {
   "display_name": ".venv",
   "language": "python",
   "name": "python3"
  },
  "language_info": {
   "codemirror_mode": {
    "name": "ipython",
    "version": 3
   },
   "file_extension": ".py",
   "mimetype": "text/x-python",
   "name": "python",
   "nbconvert_exporter": "python",
   "pygments_lexer": "ipython3",
   "version": "3.13.7"
  }
 },
 "nbformat": 4,
 "nbformat_minor": 5
}
