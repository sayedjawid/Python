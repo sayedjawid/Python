{
 "cells": [
  {
   "cell_type": "markdown",
   "id": "787920d5",
   "metadata": {},
   "source": [
    "# Självstudieövningar - Vecka 1\n",
    "\n",
    "De här övningarna är till för att du ska repetera och befästa det vi har gått igenom under veckan samt introducera några nya begrepp på ett tryggt sätt.\n",
    "\n",
    "Det innebär att vissa av uppgifterna kan du behöva söka efter information själv hur du löser. Här kan du använda Google eller AI om du vill men Python-dokumentationen är din bästa vän när du lär dig.\n",
    "\n",
    "Länk: https://docs.python.org/3.13/\n",
    "\n",
    "Läs först igenom vad som ska göras i respektive uppgift och fyll sedan i kodblocket nedanför, eller gör uppgiften i en separat fil.\n",
    "\n",
    "**Detta lämnas inte in för rättning.** Arbeta i din egen takt, testa dig fram, använd dokumentationen när du kör fast och ta med eventuella frågor till nästa lektionstillfälle."
   ]
  },
  {
   "cell_type": "markdown",
   "id": "28510678",
   "metadata": {},
   "source": [
    "## Block A"
   ]
  },
  {
   "cell_type": "markdown",
   "id": "7deb3b10",
   "metadata": {},
   "source": [
    "### Uppgift 1 – Talserie\n",
    "Skriv ut talen 1–100 men hoppa över alla tal som är delbara med 4."
   ]
  },
  {
   "cell_type": "code",
   "execution_count": 1,
   "id": "c1038a48",
   "metadata": {},
   "outputs": [
    {
     "name": "stdout",
     "output_type": "stream",
     "text": [
      "The number which is divided by 4: [4, 8, 12, 16, 20, 24, 28, 32, 36, 40, 44, 48, 52, 56, 60, 64, 68, 72, 76, 80, 84, 88, 92, 96, 100]\n"
     ]
    }
   ],
   "source": [
    "divisible_by_four = [num for num in range(1, 101) if num % 4 == 0]\n",
    "print(f'The number which is divided by 4: {divisible_by_four}')"
   ]
  },
  {
   "cell_type": "markdown",
   "id": "56f6a91f",
   "metadata": {},
   "source": [
    "### Uppgift 2 – Strängmanipulation\n",
    "Läs in en mening och skriv ut den på tre sätt:\n",
    "- utan vokaler\n",
    "- utan konsonanter\n",
    "- med orden i omvänd ordning"
   ]
  },
  {
   "cell_type": "code",
   "execution_count": 14,
   "id": "c2f81e88",
   "metadata": {},
   "outputs": [
    {
     "name": "stdout",
     "output_type": "stream",
     "text": [
      "Din text utan vokaler blir:\n",
      "hj ll\n",
      "Din text med konsonanter blir:\n",
      "e aa\n"
     ]
    }
   ],
   "source": [
    "vokaler = ['a', 'e', 'i', 'o', 'u', 'y', 'å', 'ä', 'ö']\n",
    "# konsonanter = [\"b\", \"c\", \"d\", \"f\", \"g\", \"h\", \"j\", \"k\", \"l\", \"m\", \"n\", \"p\", \"q\", \"r\", \"s\", \"t\", \"v\", \"w\", \"x\", \"z\"]\n",
    "\n",
    "mening = input('Var snäll och skriv något text här:\\n').lower()\n",
    "bokstaver_utan_vokaler = []\n",
    "for bokstav in mening:\n",
    "    if bokstav not in vokaler:\n",
    "        bokstaver_utan_vokaler.append(bokstav)\n",
    "\n",
    "\n",
    "print(f\"Din text utan vokaler blir:\\n{''.join(bokstaver_utan_vokaler)}\")\n",
    "\n",
    "\n",
    "konsonanter = [\"b\", \"c\", \"d\", \"f\", \"g\", \"h\", \"j\", \"k\", \"l\", \"m\", \"n\", \"p\", \"q\", \"r\", \"s\", \"t\", \"v\", \"w\", \"x\", \"z\"]\n",
    "\n",
    "mening = input('Var snäll och skriv något text här:\\n').lower()\n",
    "bokstaver_med_konsonanter = []\n",
    "for bokstav in mening:\n",
    "    if bokstav not in konsonanter:\n",
    "        bokstaver_med_konsonanter.append(bokstav)\n",
    "\n",
    "\n",
    "print(f\"Din text med konsonanter blir:\\n{''.join(bokstaver_med_konsonanter)}\")\n"
   ]
  },
  {
   "cell_type": "code",
   "execution_count": 30,
   "id": "5046be0d",
   "metadata": {},
   "outputs": [
    {
     "name": "stdout",
     "output_type": "stream",
     "text": [
      "hj p r\n",
      "e å e\n",
      "er på hej\n"
     ]
    }
   ],
   "source": [
    "s = input(\"Mening: \")\n",
    "vokaler = \"aouåeiyäöAOUÅEIYÄÖ\"\n",
    "utan_vokaler = \"\".join(ch for ch in s if ch not in vokaler)\n",
    "utan_konsonanter = \"\".join(ch for ch in s if ch in vokaler or not ch.isalpha())\n",
    "omvänd = \" \".join(s.split()[::-1])\n",
    "\n",
    "print(utan_vokaler)\n",
    "print(utan_konsonanter)\n",
    "print(omvänd)"
   ]
  },
  {
   "cell_type": "markdown",
   "id": "7d8b0214",
   "metadata": {},
   "source": [
    "### Uppgift 3 – Lista med tal\n",
    "Låt användaren mata in en lista med tal (separerade med kommatecken, t.ex. `1,4,7,3`).\n",
    "Programmet ska sedan:\n",
    "- räkna ut summan\n",
    "- hitta minsta och största talet\n",
    "- räkna ut medelvärdet\n",
    "(Använd loopar, inte `min`, `max`, `sum`)."
   ]
  },
  {
   "cell_type": "code",
   "execution_count": 3,
   "id": "65d175df",
   "metadata": {},
   "outputs": [
    {
     "name": "stdout",
     "output_type": "stream",
     "text": [
      "Summan av lista: 292\n"
     ]
    }
   ],
   "source": [
    "# Be användaren mata in tal separerade med kommatecken\n",
    "input_str = input(\"Mata in en lista med tal, separerade med kommatecken (t.ex. 1,4,7,3): \")\n",
    "tal_list = input_str.split(',')\n",
    "summan = 0\n",
    "for num in tal_list:\n",
    "    summan += int(num)\n",
    "print(f'Summan av lista: {summan}')"
   ]
  },
  {
   "cell_type": "code",
   "execution_count": 4,
   "id": "49a853ad",
   "metadata": {},
   "outputs": [
    {
     "name": "stdout",
     "output_type": "stream",
     "text": [
      "Summan av denna list: 66\n",
      "Minsta värdet i listan: 22\n",
      "Medelvärdet av listan: 22.0\n",
      "Din lista med tal: [22, 22, 22]\n"
     ]
    }
   ],
   "source": [
    "# Be användaren mata in tal separerade med kommatecken\n",
    "input_str = input(\"Mata in en lista med tal, separerade med kommatecken (t.ex. 1,4,7,3): \")\n",
    "\n",
    "# Dela strängen vid kommatecken och konvertera varje del till ett heltal\n",
    "tal_list = [int(x.strip()) for x in input_str.split(',')]\n",
    "\n",
    "print(f'Summan av denna list: {sum(tal_list)}')\n",
    "print(f'Minsta värdet i listan: {min(tal_list)}')\n",
    "medelvärdet = sum(tal_list) / len(tal_list)\n",
    "print(f'Medelvärdet av listan: {medelvärdet}')\n",
    "\n",
    "# Visa resultatet\n",
    "print(\"Din lista med tal:\", tal_list)\n",
    "\n"
   ]
  },
  {
   "cell_type": "markdown",
   "id": "14e64976",
   "metadata": {},
   "source": [
    "### Uppgift 4 – Felsökning\n",
    "Koden nedan ska summera en lista men kraschar med `TypeError`."
   ]
  },
  {
   "cell_type": "code",
   "execution_count": 2,
   "id": "1c3d0543",
   "metadata": {},
   "outputs": [
    {
     "name": "stdout",
     "output_type": "stream",
     "text": [
      "[1, 2, 3, 4]\n",
      "10\n"
     ]
    }
   ],
   "source": [
    "nums = \"1234\"\n",
    "# map() går igenom varje tecken och omvandlar dem till heltal\n",
    "print(list(map(int, nums)))\n",
    "print(sum(map(int, nums))) \n"
   ]
  },
  {
   "cell_type": "code",
   "execution_count": 7,
   "id": "f5ff1516",
   "metadata": {},
   "outputs": [
    {
     "name": "stdout",
     "output_type": "stream",
     "text": [
      "[5, 4, 2, 6, 1, 4, 6]\n"
     ]
    }
   ],
   "source": [
    "my_String = 'Hello this is Sayed, I love Python'\n",
    "words = my_String.split()\n",
    "lenghts = list(map(len, words))\n",
    "# print(list(map(str.upper, my_String)))\n",
    "print(lenghts)"
   ]
  },
  {
   "cell_type": "markdown",
   "id": "dedbd135",
   "metadata": {},
   "source": [
    "## Block B – Funktioner"
   ]
  },
  {
   "cell_type": "markdown",
   "id": "4352aa92",
   "metadata": {},
   "source": [
    "### Uppgift 5 – Primtal\n",
    "Skriv en funktion `is_prime(n)` som returnerar `True` om `n` är ett primtal, annars `False`."
   ]
  },
  {
   "cell_type": "code",
   "execution_count": 9,
   "id": "c21ea28b",
   "metadata": {},
   "outputs": [
    {
     "name": "stdout",
     "output_type": "stream",
     "text": [
      "12 är INTE ett primtal (delbart med 2)\n"
     ]
    }
   ],
   "source": [
    "def prime_tal():\n",
    "    num = int(input('skriv ett tatl: '))\n",
    "    if num > 1:\n",
    "        for i in range(2, num):\n",
    "            if num % i == 0:\n",
    "                print(f'{num} är INTE ett primtal (delbart med {i})')\n",
    "                break\n",
    "        else:\n",
    "            print(f'{num} är ett primtal.')\n",
    "    else:\n",
    "        print('Tal mindre än 2 är inte primtal.')\n",
    "\n",
    "prime_tal()\n"
   ]
  },
  {
   "cell_type": "markdown",
   "id": "65ab0020",
   "metadata": {},
   "source": [
    "### Uppgift 6 – Vokaler\n",
    "Skriv en funktion `count_vowels(s)` som returnerar antalet vokaler i en sträng."
   ]
  },
  {
   "cell_type": "code",
   "execution_count": 13,
   "id": "0e12bab5",
   "metadata": {},
   "outputs": [
    {
     "name": "stdout",
     "output_type": "stream",
     "text": [
      "Number of vowels: 8\n",
      "hej jag heter sayed ali\n"
     ]
    }
   ],
   "source": [
    "def count_vowels(text):\n",
    "    vowels = ['a', 'e', 'i', 'o', 'u']\n",
    "    count = 0\n",
    "    for char in text.lower():\n",
    "        if char in vowels:\n",
    "            count += 1\n",
    "    return count\n",
    "\n",
    "user_text = input('Enter a word or sentence:\\t')\n",
    "\n",
    "\n",
    "print('Number of vowels:', count_vowels(user_text))\n",
    "print(user_text)"
   ]
  },
  {
   "cell_type": "code",
   "execution_count": 32,
   "id": "5efbbb0d",
   "metadata": {},
   "outputs": [
    {
     "name": "stdout",
     "output_type": "stream",
     "text": [
      "12\n"
     ]
    }
   ],
   "source": [
    "def count_vowels(text):\n",
    "    vokaler = \"aouåeiyäöAOUÅEIYÄÖ\"\n",
    "    return sum(1 for char in text if char in vokaler)\n",
    "\n",
    "print(count_vowels(input('Skriv ett mening här:\\n')))"
   ]
  },
  {
   "cell_type": "markdown",
   "id": "b0fd6ddc",
   "metadata": {},
   "source": [
    "### Uppgift 7 – FizzBuzz som funktion\n",
    "Skriv om din gamla FizzBuzz-kod från vecka 1 till en funktion `fizzbuzz(n)` som returnerar en lista med resultaten."
   ]
  },
  {
   "cell_type": "code",
   "execution_count": 26,
   "id": "65410f32",
   "metadata": {},
   "outputs": [
    {
     "name": "stdout",
     "output_type": "stream",
     "text": [
      "\n",
      "Resultatlista:\n",
      "['Buzz, Talet är (10)', 'Buzz, Talet är (20)', 'FizzBuzz, Talet är (30)', 'Buzz, Talet är (50)', 'Buzz, Talet är (35)']\n"
     ]
    }
   ],
   "source": [
    "def fizz_buzz():\n",
    "    resultat = []\n",
    "    försök = 0\n",
    "    while försök < 5:\n",
    "        user_heltal = int(input('Skriv ett heltal:\\n'))\n",
    "\n",
    "        if user_heltal % 3 == 0 and user_heltal % 5 == 0:\n",
    "            resultat.append(f'FizzBuzz, Talet är ({user_heltal})')\n",
    "        elif user_heltal % 3 == 0:\n",
    "            resultat.append(f'Fizz, Talet är ({user_heltal})')\n",
    "        elif user_heltal % 5 == 0:\n",
    "            resultat.append(f'Buzz, Talet är ({user_heltal})')\n",
    "        \n",
    "        elif user_heltal % 2 == 0:\n",
    "            resultat.append(f'Even number ({user_heltal})')\n",
    "        \n",
    "        else: \n",
    "            resultat.append(f'Odd number ({user_heltal})')\n",
    "        \n",
    "        försök += 1 # öka räknaren\n",
    "    return resultat\n",
    "# anropa funktionen och visa resultatet\n",
    "resultat_lista = fizz_buzz()\n",
    "print(\"\\nResultatlista:\")\n",
    "print(resultat_lista)"
   ]
  },
  {
   "cell_type": "markdown",
   "id": "23032f51",
   "metadata": {},
   "source": [
    "### Uppgift 8 – Miniräknare\n",
    "Skriv ett program där varje räknesätt är en funktion: `add(a,b)`, `sub(a,b)`, `mul(a,b)`, `div(a,b)`.\n",
    "Programmet ska visa en meny där användaren väljer operation och matar in två tal."
   ]
  },
  {
   "cell_type": "code",
   "execution_count": null,
   "id": "405a2038",
   "metadata": {},
   "outputs": [
    {
     "name": "stdout",
     "output_type": "stream",
     "text": [
      "1. Addition:\n",
      "2. Subtraktion:\n",
      "3. Multiplikation:\n",
      "4. Division:\n",
      "5, Avsluta programmet!\n",
      "4.0\n",
      "1. Addition:\n",
      "2. Subtraktion:\n",
      "3. Multiplikation:\n",
      "4. Division:\n",
      "5, Avsluta programmet!\n",
      "3.0\n",
      "1. Addition:\n",
      "2. Subtraktion:\n",
      "3. Multiplikation:\n",
      "4. Division:\n",
      "5, Avsluta programmet!\n",
      "6.0\n",
      "1. Addition:\n",
      "2. Subtraktion:\n",
      "3. Multiplikation:\n",
      "4. Division:\n",
      "5, Avsluta programmet!\n",
      "2.0\n",
      "1. Addition:\n",
      "2. Subtraktion:\n",
      "3. Multiplikation:\n",
      "4. Division:\n",
      "5, Avsluta programmet!\n"
     ]
    }
   ],
   "source": [
    "def add(a,b): return a + b\n",
    "\n",
    "def sub(a, b): return a - b \n",
    "\n",
    "def mul(a, b): return a * b\n",
    "\n",
    "def div(a, b): return a / b\n",
    "    \n",
    "\n",
    "while True:\n",
    "    print('1. Addition:')\n",
    "    print('2. Subtraktion:')\n",
    "    print('3. Multiplikation:')\n",
    "    print('4. Division:')\n",
    "    print('5, Avsluta programmet!')\n",
    "    \n",
    "    val = input('Välja vilket operation du vill göra!:\\n')\n",
    "\n",
    "    if val == '5': break\n",
    "    a = float(input('a:'))\n",
    "    b = float(input('b:'))\n",
    "\n",
    "    if val == '1': print(add(a, b))\n",
    "    elif val == '2': print(sub(a, b))\n",
    "    elif val == '3': print(mul(a, b))\n",
    "    elif val == '4': print(div(a, b))\n",
    "        \n"
   ]
  },
  {
   "cell_type": "markdown",
   "id": "1577ba01",
   "metadata": {},
   "source": [
    "### Uppgift 9 – Felsökning\n",
    "Koden nedan ska addera två tal men ger `None`. Rätta till det."
   ]
  },
  {
   "cell_type": "code",
   "execution_count": 29,
   "id": "bf695f15",
   "metadata": {},
   "outputs": [
    {
     "name": "stdout",
     "output_type": "stream",
     "text": [
      "5\n"
     ]
    }
   ],
   "source": [
    "def add(a, b):\n",
    "    return  a + b\n",
    "\n",
    "resultat = add(2, 3)\n",
    "print(resultat)"
   ]
  },
  {
   "cell_type": "markdown",
   "id": "1d6d138e",
   "metadata": {},
   "source": [
    "## Block C – Dictionaries"
   ]
  },
  {
   "cell_type": "markdown",
   "id": "f2bc75a2",
   "metadata": {},
   "source": [
    "### Uppgift 10 – Åldrar\n",
    "Skapa en dictionary med tre personer och deras ålder. Lägg till en fjärde. Fråga användaren om ett namn och slå upp åldern. Om personen inte finns, skriv \"Ej hittad\"."
   ]
  },
  {
   "cell_type": "code",
   "execution_count": 59,
   "id": "de26df35",
   "metadata": {},
   "outputs": [
    {
     "name": "stdout",
     "output_type": "stream",
     "text": [
      "Hello Ali, welcome to my club! You are 30 years old!\n"
     ]
    }
   ],
   "source": [
    "person_age = {\n",
    "            'Sayed ali': 29, \n",
    "            'Sara': 30, \n",
    "            'ali': 30   \n",
    "          }\n",
    "person_age['Ludvig'] = 32\n",
    "\n",
    "user_name = input('Enter your name:\\t')\n",
    "if user_name not in person_age:\n",
    "    print(f'The person {user_name.title()} does not found!')\n",
    "else: \n",
    "    print(f'Hello {user_name.title()}, welcome to my club! You are {person_age[user_name]} years old!')"
   ]
  },
  {
   "cell_type": "markdown",
   "id": "f1ebe1a7",
   "metadata": {},
   "source": [
    "### Uppgift 11 – Ordräknare\n",
    "Be användaren skriva en mening. Räkna hur många gånger varje ord förekommer och spara i en dictionary."
   ]
  },
  {
   "cell_type": "code",
   "execution_count": 66,
   "id": "6950a31b",
   "metadata": {},
   "outputs": [
    {
     "name": "stdout",
     "output_type": "stream",
     "text": [
      "{'hej': 1, 'jag': 1, 'heter': 2, 'ali': 1, 'vad': 1, 'du?': 1, 'nice': 1}\n"
     ]
    }
   ],
   "source": [
    "s = input('Skriv en mening:\\t').lower().replace(',', '').replace(\"!\", \"\").replace('.', '')\n",
    "words = s.split()\n",
    "counts = {}\n",
    "for word in words:\n",
    "    counts[word] = counts.get(word, 0) + 1\n",
    "print(counts)"
   ]
  },
  {
   "cell_type": "markdown",
   "id": "d506caa0",
   "metadata": {},
   "source": [
    "### Uppgift 12 – Telefonbok\n",
    "Skriv ett menyprogram där användaren kan:\n",
    "- lägga till en kontakt (namn + nummer)\n",
    "- söka efter ett namn\n",
    "- visa alla kontakter\n",
    "- ta bort en kontakt\n",
    "- avsluta programmet\n",
    "\n",
    "Kontakterna sparas i en dictionary `{namn: nummer}`."
   ]
  },
  {
   "cell_type": "code",
   "execution_count": 68,
   "id": "028e1446",
   "metadata": {},
   "outputs": [
    {
     "name": "stdout",
     "output_type": "stream",
     "text": [
      "1: Lägg till.\n",
      "2: Sök.\n",
      "3: Visa alla kontakter.\n",
      "4: Ta bort en kontakt.\n",
      "5: Avsluta programmet \n",
      "\n",
      "1: Lägg till.\n",
      "2: Sök.\n",
      "3: Visa alla kontakter.\n",
      "4: Ta bort en kontakt.\n",
      "5: Avsluta programmet \n",
      "\n",
      "1: Lägg till.\n",
      "2: Sök.\n",
      "3: Visa alla kontakter.\n",
      "4: Ta bort en kontakt.\n",
      "5: Avsluta programmet \n",
      "\n",
      "1: Lägg till.\n",
      "2: Sök.\n",
      "3: Visa alla kontakter.\n",
      "4: Ta bort en kontakt.\n",
      "5: Avsluta programmet \n",
      "\n",
      "Ej hittad\n",
      "1: Lägg till.\n",
      "2: Sök.\n",
      "3: Visa alla kontakter.\n",
      "4: Ta bort en kontakt.\n",
      "5: Avsluta programmet \n",
      "\n",
      "Ej hittad\n",
      "1: Lägg till.\n",
      "2: Sök.\n",
      "3: Visa alla kontakter.\n",
      "4: Ta bort en kontakt.\n",
      "5: Avsluta programmet \n",
      "\n",
      "sayed ali : 0723000247\n",
      "jawid : 1234567\n",
      "lena : 23456789098765\n",
      "1: Lägg till.\n",
      "2: Sök.\n",
      "3: Visa alla kontakter.\n",
      "4: Ta bort en kontakt.\n",
      "5: Avsluta programmet \n",
      "\n",
      "1: Lägg till.\n",
      "2: Sök.\n",
      "3: Visa alla kontakter.\n",
      "4: Ta bort en kontakt.\n",
      "5: Avsluta programmet \n",
      "\n",
      "sayed ali : 0723000247\n",
      "jawid : 1234567\n",
      "lena : 23456789098765\n",
      "1: Lägg till.\n",
      "2: Sök.\n",
      "3: Visa alla kontakter.\n",
      "4: Ta bort en kontakt.\n",
      "5: Avsluta programmet \n",
      "\n",
      "1: Lägg till.\n",
      "2: Sök.\n",
      "3: Visa alla kontakter.\n",
      "4: Ta bort en kontakt.\n",
      "5: Avsluta programmet \n",
      "\n",
      "sayed ali : 0723000247\n",
      "jawid : 1234567\n",
      "1: Lägg till.\n",
      "2: Sök.\n",
      "3: Visa alla kontakter.\n",
      "4: Ta bort en kontakt.\n",
      "5: Avsluta programmet \n",
      "\n"
     ]
    }
   ],
   "source": [
    "phonebook = {}\n",
    "\n",
    "while True:\n",
    "\n",
    "    print('1: Lägg till.')\n",
    "    print('2: Sök.')\n",
    "    print('3: Visa alla kontakter.')\n",
    "    print('4: Ta bort en kontakt.')\n",
    "    print('5: Avsluta programmet \\n')\n",
    "\n",
    "\n",
    "    val = input('>>>>\\t')\n",
    "\n",
    "    if val == '1':\n",
    "        n = input('Name: ')\n",
    "        t = input('Tel: ')\n",
    "        phonebook[n] = t\n",
    "\n",
    "    elif val == '2':\n",
    "        n = input('Namn:\\t')\n",
    "        print(phonebook.get(n, 'Ej hittad'))\n",
    "    \n",
    "    elif val == '3':\n",
    "        if not phonebook:\n",
    "            print('Inga kontakter än!')\n",
    "        else:\n",
    "            for key, val in phonebook.items():\n",
    "                print(key, \":\", val)\n",
    "\n",
    "    elif val == '4':\n",
    "        n = input('Namn:\\t')\n",
    "        if n in phonebook: del phonebook[n]\n",
    "        else:\n",
    "            print('Ej hittad')\n",
    "    elif val == '5':\n",
    "        break\n"
   ]
  },
  {
   "cell_type": "markdown",
   "id": "e6d49f40",
   "metadata": {},
   "source": [
    "### Uppgift 13 – Felsökning\n",
    "Koden nedan försöker slå upp en nyckel som inte finns och kraschar (`KeyError`). Rätta den så att programmet hanterar fallet."
   ]
  },
  {
   "cell_type": "code",
   "execution_count": 83,
   "id": "9ee27849",
   "metadata": {},
   "outputs": [
    {
     "name": "stdout",
     "output_type": "stream",
     "text": [
      "{'Ada': 30, 'Bob': 25, 'Sayed': 29}\n"
     ]
    }
   ],
   "source": [
    "ages = {\"Ada\": 30, \"Bob\": 25}\n",
    "name = input('Ange namn:\\t').strip().title()\n",
    "if name in ages:\n",
    "    print(f\"{name}s ålder är: {ages[name]}\")\n",
    "else:\n",
    "    ages[name] = 29\n",
    "\n",
    "print(ages)"
   ]
  },
  {
   "cell_type": "markdown",
   "id": "d93b4a46",
   "metadata": {},
   "source": [
    "## Block D – Moduler & reproducera körning"
   ]
  },
  {
   "cell_type": "markdown",
   "id": "47e1e67f",
   "metadata": {},
   "source": [
    "### Uppgift 14 – Egna moduler\n",
    "Skapa en fil `utils.py` och lägg i funktionerna `is_even(n)` och `sum_list(lst)`. Importera modulen i din notebook och använd funktionerna."
   ]
  },
  {
   "cell_type": "code",
   "execution_count": null,
   "id": "3daf18d5",
   "metadata": {},
   "outputs": [],
   "source": []
  },
  {
   "cell_type": "markdown",
   "id": "13198f2d",
   "metadata": {},
   "source": [
    "### Uppgift 15 – Reproducerbar slump\n",
    "Skriv ett program som genererar 5 slumpmässiga tal mellan 1–100. Använd `random.seed(42)` så att samma tal genereras varje gång."
   ]
  },
  {
   "cell_type": "code",
   "execution_count": 95,
   "id": "2bd1456b",
   "metadata": {},
   "outputs": [
    {
     "name": "stdout",
     "output_type": "stream",
     "text": [
      "[82, 15, 4, 95, 36]\n"
     ]
    }
   ],
   "source": [
    "\n",
    "import random \n",
    "random.seed(42)\n",
    "numbers = [random.randint(1, 100) for i in range(5)]\n",
    "print(numbers)"
   ]
  },
  {
   "cell_type": "markdown",
   "id": "434b57c5",
   "metadata": {},
   "source": [
    "### Uppgift 16 – Paket och flera filer\n",
    "Bygg ett litet paket i en mapp som heter `calc_pkg/` och använd det från en huvudfil.\n",
    "\n",
    "#### Struktur:\n",
    "* calc_pkg/\n",
    "    * \\__init__.py\n",
    "    * ops.py\n",
    "    * formatting.py\n",
    "* main.py\n",
    "\n",
    "#### Krav:\n",
    "* `ops.py` ska innehålla funktionerna `add(a, b)`, `sub(a, b)`, `mul(a, b)`, `div(a, b)` (hantera division med noll).\n",
    "* `formatting.py` ska innehålla en funktion `pretty(op, a, b, result)` som returnerar en sträng, t.ex. `\"3 * 7 = 21\"` (op = +, -, *, / eller //).\n",
    "* main.py ska:\n",
    "    * importera från paketet (ex: `from calc_pkg import add, sub, mul, div, pretty`),\n",
    "    * visa en meny där användaren väljer räknesätt och matar två tal,\n",
    "    * skriva ut resultatet med `pretty(...)`.\n",
    "\n",
    "#### Tips:\n",
    "* Kör `main.py` från samma nivå som mappen `calc_pkg/`.\n",
    "* Om importen strular: kontrollera fil-/mappnamn och att `__init__.py` finns."
   ]
  },
  {
   "cell_type": "code",
   "execution_count": null,
   "id": "13f18eb9",
   "metadata": {},
   "outputs": [],
   "source": []
  },
  {
   "cell_type": "markdown",
   "id": "bc3245d2",
   "metadata": {},
   "source": [
    "## Block E – Större projekt"
   ]
  },
  {
   "cell_type": "markdown",
   "id": "8f95011b",
   "metadata": {},
   "source": [
    "### Projekt 1 – Textanalysator\n",
    "Be användaren skriva in en längre text. Programmet ska analysera:\n",
    "- antal ord\n",
    "- antal unika ord\n",
    "- antal vokaler\n",
    "- längsta ordet\n",
    "Resultatet sparas i en dictionary och skrivs ut."
   ]
  },
  {
   "cell_type": "code",
   "execution_count": null,
   "id": "febec7cb",
   "metadata": {},
   "outputs": [],
   "source": []
  },
  {
   "cell_type": "markdown",
   "id": "d93820ce",
   "metadata": {},
   "source": [
    "### Projekt 2 – Sten-Sax-Påse: Turnering\n",
    "Skapa ett program där man kan köra en turnering **Sten-Sax-Påse** mot datorn.\n",
    "\n",
    "#### Krav:\n",
    "* Representera valen som strängar: `\"sten\"`, `\"sax\"`, `\"påse\"`.\n",
    "* Skriv en funktion `winner(p1, p2)` som returnerar `\"p1\"`, `\"p2\"` eller `\"oavgjort\"` enligt reglerna:\n",
    "    * sten slår sax, sax slår påse, påse slår sten.\n",
    "* Låt användaren spela flera rundor mot datorn tills man väljer att avsluta, eller gör färdiga \"Bäst av 3/5/7\"-lägen.\n",
    "* Visa enkel poängställning med en dictionary, t.ex. {\"spelare\": 0, \"dator\": 0, \"oavgjort\": 0}.\n",
    "\n",
    "#### Tips:\n",
    "* Använd en dict för att definiera vilka drag som slår vilka, t.ex. `beats = {\"sten\": \"sax\", \"sax\": \"påse\", \"påse\": \"sten\"}`.\n",
    "* Håll all input och utskrift i huvudflödet; låt funktionsdelarna vara “rena” och bara räkna ut svar."
   ]
  },
  {
   "cell_type": "code",
   "execution_count": null,
   "id": "6b98b10c",
   "metadata": {},
   "outputs": [],
   "source": []
  },
  {
   "cell_type": "markdown",
   "id": "bd13ac9a",
   "metadata": {},
   "source": [
    "### Projekt 3 – Hangman (ordgissning)\n",
    "Programmet väljer ett ord. Användaren gissar bokstäver tills ordet är löst eller försöken tar slut. Visa progress, t.ex. `py_h_n`."
   ]
  },
  {
   "cell_type": "code",
   "execution_count": null,
   "id": "1bd90da8",
   "metadata": {},
   "outputs": [],
   "source": []
  }
 ],
 "metadata": {
  "kernelspec": {
   "display_name": ".venv",
   "language": "python",
   "name": "python3"
  },
  "language_info": {
   "codemirror_mode": {
    "name": "ipython",
    "version": 3
   },
   "file_extension": ".py",
   "mimetype": "text/x-python",
   "name": "python",
   "nbconvert_exporter": "python",
   "pygments_lexer": "ipython3",
   "version": "3.13.7"
  }
 },
 "nbformat": 4,
 "nbformat_minor": 5
}
